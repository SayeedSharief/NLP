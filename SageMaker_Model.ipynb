{
 "cells": [
  {
   "cell_type": "markdown",
   "metadata": {
    "colab_type": "text",
    "id": "jWlQ7qWpmF4T"
   },
   "source": [
    "\n",
    "!{sys.executable} -m pip install mysql-connector-python"
   ]
  },
  {
   "cell_type": "markdown",
   "metadata": {},
   "source": [
    "import sys"
   ]
  },
  {
   "cell_type": "markdown",
   "metadata": {},
   "source": [
    "!conda install -y -c conda-forge xgboost"
   ]
  },
  {
   "cell_type": "markdown",
   "metadata": {
    "colab_type": "text",
    "id": "YNA5sPGymF4f"
   },
   "source": [
    "!{sys.executable} -m pip install tensorflow"
   ]
  },
  {
   "cell_type": "markdown",
   "metadata": {
    "colab_type": "text",
    "id": "waqxvpl6mF4l"
   },
   "source": [
    "!{sys.executable} -m pip install --upgrade --no-cache-dir https://get.graphlab.com/GraphLab-Create/2.1/im.dsgeek@gmail.com/AD52-2E93-2425-4198-A108-1635-70FD-8D8D/GraphLab-Create-License.tar.gz"
   ]
  },
  {
   "cell_type": "code",
   "execution_count": 93,
   "metadata": {
    "colab": {},
    "colab_type": "code",
    "id": "TD_YsUGXmF4w"
   },
   "outputs": [],
   "source": [
    "from sklearn.ensemble import RandomForestClassifier\n",
    "import pandas as pd\n",
    "# import mysql.connector\n",
    "# from mysql.connector import Error\n",
    "from sklearn.feature_extraction.text import CountVectorizer\n",
    "# import xgboost as xgb\n",
    "from sklearn.model_selection import train_test_split"
   ]
  },
  {
   "cell_type": "code",
   "execution_count": 94,
   "metadata": {},
   "outputs": [],
   "source": [
    "import botocore\n",
    "import sagemaker\n",
    "import sys"
   ]
  },
  {
   "cell_type": "code",
   "execution_count": 95,
   "metadata": {},
   "outputs": [
    {
     "name": "stdout",
     "output_type": "stream",
     "text": [
      "CPU times: user 68.3 ms, sys: 0 ns, total: 68.3 ms\n",
      "Wall time: 138 ms\n"
     ]
    }
   ],
   "source": [
    "%%time\n",
    "\n",
    "import os\n",
    "import boto3\n",
    "import re\n",
    "from sagemaker import get_execution_role\n",
    "\n",
    "role = get_execution_role()\n",
    "region = boto3.Session().region_name\n",
    "\n",
    "bucket='alitewareml' # put your s3 bucket name here, and create s3 bucket\n",
    "prefix = 'sagemaker/aliteml'\n",
    "# customize to your bucket where you have stored the data\n",
    "bucket_path = 'https://s3-{}.amazonaws.com/{}'.format(region,bucket)"
   ]
  },
  {
   "cell_type": "code",
   "execution_count": 96,
   "metadata": {},
   "outputs": [
    {
     "data": {
      "text/plain": [
       "'us-east-2'"
      ]
     },
     "execution_count": 96,
     "metadata": {},
     "output_type": "execute_result"
    }
   ],
   "source": [
    "region"
   ]
  },
  {
   "cell_type": "markdown",
   "metadata": {
    "colab_type": "text",
    "id": "ylK_QsV0mF5D"
   },
   "source": [
    "# Reading data"
   ]
  },
  {
   "cell_type": "code",
   "execution_count": 97,
   "metadata": {
    "colab": {
     "base_uri": "https://localhost:8080/",
     "height": 848
    },
    "colab_type": "code",
    "executionInfo": {
     "elapsed": 3940,
     "status": "ok",
     "timestamp": 1553522558952,
     "user": {
      "displayName": "User User",
      "photoUrl": "",
      "userId": "11623809594633842467"
     },
     "user_tz": -330
    },
    "id": "OEUuoUI6mF5I",
    "outputId": "d1d60048-86fa-4d7f-8d1b-39fb2e1d62b1"
   },
   "outputs": [
    {
     "name": "stdout",
     "output_type": "stream",
     "text": [
      "(990, 32)\n",
      "Index(['S.No', 'Search date/IRD', 'Original title', 'Author Names',\n",
      "       'Author Addresses', 'Correspondence Address', 'Source',\n",
      "       'Date of Publication', 'Abstract', 'Emtree Drug Index Terms',\n",
      "       'Drug Tradenames', 'Drug Manufacturer', 'Embase Accession ID', 'PUI',\n",
      "       'Country of Incidence', 'Initial Reviewer', 'Initial Review Date',\n",
      "       'Classification (Validity)', 'Duplicates (Yes/No)',\n",
      "       'Document type (Abs/ FTA)', 'Valid drugs', 'Invalid drugs',\n",
      "       'Initial Review Comment', 'Quality Reviewer', 'Quality review date',\n",
      "       'QC comment', 'Full Text Link', 'FTA Order Requested date',\n",
      "       'FTA Order Receive Date', 'Translation Requested Date',\n",
      "       'Translation Recieved Date', 'Set'],\n",
      "      dtype='object')\n"
     ]
    },
    {
     "data": {
      "text/html": [
       "<div>\n",
       "<style scoped>\n",
       "    .dataframe tbody tr th:only-of-type {\n",
       "        vertical-align: middle;\n",
       "    }\n",
       "\n",
       "    .dataframe tbody tr th {\n",
       "        vertical-align: top;\n",
       "    }\n",
       "\n",
       "    .dataframe thead th {\n",
       "        text-align: right;\n",
       "    }\n",
       "</style>\n",
       "<table border=\"1\" class=\"dataframe\">\n",
       "  <thead>\n",
       "    <tr style=\"text-align: right;\">\n",
       "      <th></th>\n",
       "      <th>S.No</th>\n",
       "      <th>Search date/IRD</th>\n",
       "      <th>Original title</th>\n",
       "      <th>Author Names</th>\n",
       "      <th>Author Addresses</th>\n",
       "      <th>Correspondence Address</th>\n",
       "      <th>Source</th>\n",
       "      <th>Date of Publication</th>\n",
       "      <th>Abstract</th>\n",
       "      <th>Emtree Drug Index Terms</th>\n",
       "      <th>...</th>\n",
       "      <th>Initial Review Comment</th>\n",
       "      <th>Quality Reviewer</th>\n",
       "      <th>Quality review date</th>\n",
       "      <th>QC comment</th>\n",
       "      <th>Full Text Link</th>\n",
       "      <th>FTA Order Requested date</th>\n",
       "      <th>FTA Order Receive Date</th>\n",
       "      <th>Translation Requested Date</th>\n",
       "      <th>Translation Recieved Date</th>\n",
       "      <th>Set</th>\n",
       "    </tr>\n",
       "  </thead>\n",
       "  <tbody>\n",
       "    <tr>\n",
       "      <th>0</th>\n",
       "      <td>933</td>\n",
       "      <td>2018-11-12</td>\n",
       "      <td>Unrecognized Esophageal Perforation After Live...</td>\n",
       "      <td>Mazilescu L.I., Bezinover D., Paul A., Saner F.H.</td>\n",
       "      <td>(Mazilescu L.I., laura.mazilescu@uk-essen.de; ...</td>\n",
       "      <td>L.I. Mazilescu, Department of General, Viscera...</td>\n",
       "      <td>Journal of Cardiothoracic and Vascular Anesthe...</td>\n",
       "      <td>2018-06-01 00:00:00</td>\n",
       "      <td>NaN</td>\n",
       "      <td>NaN</td>\n",
       "      <td>...</td>\n",
       "      <td>Case report. No safety data in abstract.</td>\n",
       "      <td>Bindu M</td>\n",
       "      <td>2018-11-12</td>\n",
       "      <td>No error</td>\n",
       "      <td>http://dx.doi.org/10.1053/j.jvca.2017.10.035</td>\n",
       "      <td>NaT</td>\n",
       "      <td>NaN</td>\n",
       "      <td>NaN</td>\n",
       "      <td>NaN</td>\n",
       "      <td>Set 8</td>\n",
       "    </tr>\n",
       "    <tr>\n",
       "      <th>1</th>\n",
       "      <td>941</td>\n",
       "      <td>2018-11-12</td>\n",
       "      <td>Pretransplant coronary artery disease is a pre...</td>\n",
       "      <td>Darstein F., Hoppe-Lotichius M., Vollmar J., W...</td>\n",
       "      <td>(Darstein F., felix.darstein@unimedizin-mainz....</td>\n",
       "      <td>F. Darstein, First Department of Internal Medi...</td>\n",
       "      <td>European Journal of Internal Medicine (2018) 5...</td>\n",
       "      <td>2018-05-01 00:00:00</td>\n",
       "      <td>Background: Cardiovascular disease is a seriou...</td>\n",
       "      <td>NaN</td>\n",
       "      <td>...</td>\n",
       "      <td>Set drug (Lenalidomide) is registered in COI. ...</td>\n",
       "      <td>Bindu M</td>\n",
       "      <td>2018-11-12</td>\n",
       "      <td>No error</td>\n",
       "      <td>http://dx.doi.org/10.1016/j.ejim.2017.12.001</td>\n",
       "      <td>NaT</td>\n",
       "      <td>NaN</td>\n",
       "      <td>NaN</td>\n",
       "      <td>NaN</td>\n",
       "      <td>Set 8</td>\n",
       "    </tr>\n",
       "    <tr>\n",
       "      <th>2</th>\n",
       "      <td>293</td>\n",
       "      <td>2018-11-12</td>\n",
       "      <td>Ibritumomab tiuxetan (Zevalin) and elevated se...</td>\n",
       "      <td>Mukherjee S., Ayanambakkam A., Ibrahimi S., Sc...</td>\n",
       "      <td>(Mukherjee S., Sarbajit-Mukherjee@ouhsc.edu; I...</td>\n",
       "      <td>S. Mukherjee, University of Oklahoma Health Sc...</td>\n",
       "      <td>Hematology/ Oncology and Stem Cell Therapy (20...</td>\n",
       "      <td>2018-09-01 00:00:00</td>\n",
       "      <td>Ibritumomab Tiuxetan (Zevalin) is an anti CD-2...</td>\n",
       "      <td>human anti murine antibody (endogenous compoun...</td>\n",
       "      <td>...</td>\n",
       "      <td>Carboplatin has MA in COI. Case report. Partia...</td>\n",
       "      <td>Bindu M</td>\n",
       "      <td>2018-11-12</td>\n",
       "      <td>No error</td>\n",
       "      <td>https://www.sciencedirect.com/science/article/...</td>\n",
       "      <td>NaT</td>\n",
       "      <td>NaN</td>\n",
       "      <td>NaN</td>\n",
       "      <td>NaN</td>\n",
       "      <td>Set 3</td>\n",
       "    </tr>\n",
       "    <tr>\n",
       "      <th>3</th>\n",
       "      <td>696</td>\n",
       "      <td>2018-11-12</td>\n",
       "      <td>Management of Pediatric Movement Disorders: Pr...</td>\n",
       "      <td>Russ J.B., Nallappan A.M., Robichaux-Viehoever A.</td>\n",
       "      <td>(Russ J.B.) Department of Pediatrics, Universi...</td>\n",
       "      <td>A. Robichaux-Viehoever, Department of Neurolog...</td>\n",
       "      <td>Seminars in Pediatric Neurology (2018) 25 (136...</td>\n",
       "      <td>2018-04-01 00:00:00</td>\n",
       "      <td>Management of movement disorders in children i...</td>\n",
       "      <td>NaN</td>\n",
       "      <td>...</td>\n",
       "      <td>Review article. Safety prsent (side effects of...</td>\n",
       "      <td>Bindu M</td>\n",
       "      <td>2018-11-12</td>\n",
       "      <td>No error</td>\n",
       "      <td>https://www.sciencedirect.com/science/article/...</td>\n",
       "      <td>NaT</td>\n",
       "      <td>NaN</td>\n",
       "      <td>NaN</td>\n",
       "      <td>NaN</td>\n",
       "      <td>Set 6</td>\n",
       "    </tr>\n",
       "    <tr>\n",
       "      <th>4</th>\n",
       "      <td>814</td>\n",
       "      <td>2018-11-12</td>\n",
       "      <td>Effectiveness of total corpus callosotomy for ...</td>\n",
       "      <td>Baba S., Okanishi T., Nishimura M., Kanai S., ...</td>\n",
       "      <td>(Baba S.; Okanishi T., t.okanishi@sis.seirei.o...</td>\n",
       "      <td>T. Okanishi, Department of Child Neurology, Se...</td>\n",
       "      <td>Brain and Development (2018) 40:8 (719-723). D...</td>\n",
       "      <td>2018-09-01 00:00:00</td>\n",
       "      <td>Purpose: Polymicrogyria, a malformation of the...</td>\n",
       "      <td>NaN</td>\n",
       "      <td>...</td>\n",
       "      <td>No MA in COI. Study about effectiveness of tot...</td>\n",
       "      <td>Bindu M</td>\n",
       "      <td>2018-11-12</td>\n",
       "      <td>No error</td>\n",
       "      <td>http://dx.doi.org/10.1016/j.braindev.2018.03.007</td>\n",
       "      <td>NaT</td>\n",
       "      <td>NaN</td>\n",
       "      <td>NaN</td>\n",
       "      <td>NaN</td>\n",
       "      <td>Set 7</td>\n",
       "    </tr>\n",
       "  </tbody>\n",
       "</table>\n",
       "<p>5 rows × 32 columns</p>\n",
       "</div>"
      ],
      "text/plain": [
       "   S.No Search date/IRD                                     Original title  \\\n",
       "0   933      2018-11-12  Unrecognized Esophageal Perforation After Live...   \n",
       "1   941      2018-11-12  Pretransplant coronary artery disease is a pre...   \n",
       "2   293      2018-11-12  Ibritumomab tiuxetan (Zevalin) and elevated se...   \n",
       "3   696      2018-11-12  Management of Pediatric Movement Disorders: Pr...   \n",
       "4   814      2018-11-12  Effectiveness of total corpus callosotomy for ...   \n",
       "\n",
       "                                        Author Names  \\\n",
       "0  Mazilescu L.I., Bezinover D., Paul A., Saner F.H.   \n",
       "1  Darstein F., Hoppe-Lotichius M., Vollmar J., W...   \n",
       "2  Mukherjee S., Ayanambakkam A., Ibrahimi S., Sc...   \n",
       "3  Russ J.B., Nallappan A.M., Robichaux-Viehoever A.   \n",
       "4  Baba S., Okanishi T., Nishimura M., Kanai S., ...   \n",
       "\n",
       "                                    Author Addresses  \\\n",
       "0  (Mazilescu L.I., laura.mazilescu@uk-essen.de; ...   \n",
       "1  (Darstein F., felix.darstein@unimedizin-mainz....   \n",
       "2  (Mukherjee S., Sarbajit-Mukherjee@ouhsc.edu; I...   \n",
       "3  (Russ J.B.) Department of Pediatrics, Universi...   \n",
       "4  (Baba S.; Okanishi T., t.okanishi@sis.seirei.o...   \n",
       "\n",
       "                              Correspondence Address  \\\n",
       "0  L.I. Mazilescu, Department of General, Viscera...   \n",
       "1  F. Darstein, First Department of Internal Medi...   \n",
       "2  S. Mukherjee, University of Oklahoma Health Sc...   \n",
       "3  A. Robichaux-Viehoever, Department of Neurolog...   \n",
       "4  T. Okanishi, Department of Child Neurology, Se...   \n",
       "\n",
       "                                              Source  Date of Publication  \\\n",
       "0  Journal of Cardiothoracic and Vascular Anesthe...  2018-06-01 00:00:00   \n",
       "1  European Journal of Internal Medicine (2018) 5...  2018-05-01 00:00:00   \n",
       "2  Hematology/ Oncology and Stem Cell Therapy (20...  2018-09-01 00:00:00   \n",
       "3  Seminars in Pediatric Neurology (2018) 25 (136...  2018-04-01 00:00:00   \n",
       "4  Brain and Development (2018) 40:8 (719-723). D...  2018-09-01 00:00:00   \n",
       "\n",
       "                                            Abstract  \\\n",
       "0                                                NaN   \n",
       "1  Background: Cardiovascular disease is a seriou...   \n",
       "2  Ibritumomab Tiuxetan (Zevalin) is an anti CD-2...   \n",
       "3  Management of movement disorders in children i...   \n",
       "4  Purpose: Polymicrogyria, a malformation of the...   \n",
       "\n",
       "                             Emtree Drug Index Terms  ...    \\\n",
       "0                                                NaN  ...     \n",
       "1                                                NaN  ...     \n",
       "2  human anti murine antibody (endogenous compoun...  ...     \n",
       "3                                                NaN  ...     \n",
       "4                                                NaN  ...     \n",
       "\n",
       "                              Initial Review Comment  Quality Reviewer  \\\n",
       "0           Case report. No safety data in abstract.           Bindu M   \n",
       "1  Set drug (Lenalidomide) is registered in COI. ...           Bindu M   \n",
       "2  Carboplatin has MA in COI. Case report. Partia...           Bindu M   \n",
       "3  Review article. Safety prsent (side effects of...           Bindu M   \n",
       "4  No MA in COI. Study about effectiveness of tot...           Bindu M   \n",
       "\n",
       "   Quality review date QC comment  \\\n",
       "0           2018-11-12   No error   \n",
       "1           2018-11-12   No error   \n",
       "2           2018-11-12   No error   \n",
       "3           2018-11-12   No error   \n",
       "4           2018-11-12   No error   \n",
       "\n",
       "                                      Full Text Link FTA Order Requested date  \\\n",
       "0       http://dx.doi.org/10.1053/j.jvca.2017.10.035                      NaT   \n",
       "1       http://dx.doi.org/10.1016/j.ejim.2017.12.001                      NaT   \n",
       "2  https://www.sciencedirect.com/science/article/...                      NaT   \n",
       "3  https://www.sciencedirect.com/science/article/...                      NaT   \n",
       "4   http://dx.doi.org/10.1016/j.braindev.2018.03.007                      NaT   \n",
       "\n",
       "  FTA Order Receive Date Translation Requested Date Translation Recieved Date  \\\n",
       "0                    NaN                        NaN                       NaN   \n",
       "1                    NaN                        NaN                       NaN   \n",
       "2                    NaN                        NaN                       NaN   \n",
       "3                    NaN                        NaN                       NaN   \n",
       "4                    NaN                        NaN                       NaN   \n",
       "\n",
       "     Set  \n",
       "0  Set 8  \n",
       "1  Set 8  \n",
       "2  Set 3  \n",
       "3  Set 6  \n",
       "4  Set 7  \n",
       "\n",
       "[5 rows x 32 columns]"
      ]
     },
     "execution_count": 97,
     "metadata": {},
     "output_type": "execute_result"
    }
   ],
   "source": [
    "train = pd.read_excel('./Intake tracker_12-Nov-2018.xlsx')\n",
    "print(train.shape)\n",
    "print(train.columns)\n",
    "train.head()"
   ]
  },
  {
   "cell_type": "code",
   "execution_count": 98,
   "metadata": {
    "colab": {
     "base_uri": "https://localhost:8080/",
     "height": 204
    },
    "colab_type": "code",
    "executionInfo": {
     "elapsed": 3889,
     "status": "ok",
     "timestamp": 1553522558957,
     "user": {
      "displayName": "User User",
      "photoUrl": "",
      "userId": "11623809594633842467"
     },
     "user_tz": -330
    },
    "id": "3ThAdnBimF5g",
    "outputId": "45e897fc-3a02-428d-c3e0-3186efea969f"
   },
   "outputs": [
    {
     "data": {
      "text/html": [
       "<div>\n",
       "<style scoped>\n",
       "    .dataframe tbody tr th:only-of-type {\n",
       "        vertical-align: middle;\n",
       "    }\n",
       "\n",
       "    .dataframe tbody tr th {\n",
       "        vertical-align: top;\n",
       "    }\n",
       "\n",
       "    .dataframe thead th {\n",
       "        text-align: right;\n",
       "    }\n",
       "</style>\n",
       "<table border=\"1\" class=\"dataframe\">\n",
       "  <thead>\n",
       "    <tr style=\"text-align: right;\">\n",
       "      <th></th>\n",
       "      <th>Abstract</th>\n",
       "      <th>Classification</th>\n",
       "    </tr>\n",
       "  </thead>\n",
       "  <tbody>\n",
       "    <tr>\n",
       "      <th>0</th>\n",
       "      <td>NaN</td>\n",
       "      <td>Rejected</td>\n",
       "    </tr>\n",
       "    <tr>\n",
       "      <th>1</th>\n",
       "      <td>Background: Cardiovascular disease is a seriou...</td>\n",
       "      <td>Invalid</td>\n",
       "    </tr>\n",
       "    <tr>\n",
       "      <th>2</th>\n",
       "      <td>Ibritumomab Tiuxetan (Zevalin) is an anti CD-2...</td>\n",
       "      <td>Invalid</td>\n",
       "    </tr>\n",
       "    <tr>\n",
       "      <th>3</th>\n",
       "      <td>Management of movement disorders in children i...</td>\n",
       "      <td>Invalid</td>\n",
       "    </tr>\n",
       "    <tr>\n",
       "      <th>4</th>\n",
       "      <td>Purpose: Polymicrogyria, a malformation of the...</td>\n",
       "      <td>Rejected</td>\n",
       "    </tr>\n",
       "  </tbody>\n",
       "</table>\n",
       "</div>"
      ],
      "text/plain": [
       "                                            Abstract Classification\n",
       "0                                                NaN       Rejected\n",
       "1  Background: Cardiovascular disease is a seriou...        Invalid\n",
       "2  Ibritumomab Tiuxetan (Zevalin) is an anti CD-2...        Invalid\n",
       "3  Management of movement disorders in children i...        Invalid\n",
       "4  Purpose: Polymicrogyria, a malformation of the...       Rejected"
      ]
     },
     "execution_count": 98,
     "metadata": {},
     "output_type": "execute_result"
    }
   ],
   "source": [
    "data = pd.concat([train['Abstract'], train['Classification (Validity)']], axis=1)\n",
    "data.columns = ['Abstract', 'Classification']\n",
    "data.head()"
   ]
  },
  {
   "cell_type": "code",
   "execution_count": 99,
   "metadata": {
    "colab": {
     "base_uri": "https://localhost:8080/",
     "height": 136
    },
    "colab_type": "code",
    "executionInfo": {
     "elapsed": 3833,
     "status": "ok",
     "timestamp": 1553522558959,
     "user": {
      "displayName": "User User",
      "photoUrl": "",
      "userId": "11623809594633842467"
     },
     "user_tz": -330
    },
    "id": "A6_VNQOTsmVv",
    "outputId": "d5dfcc4b-9638-4391-cdf0-0b6ba0bb7abc"
   },
   "outputs": [
    {
     "name": "stdout",
     "output_type": "stream",
     "text": [
      "<class 'pandas.core.frame.DataFrame'>\n",
      "RangeIndex: 990 entries, 0 to 989\n",
      "Data columns (total 2 columns):\n",
      "Abstract          836 non-null object\n",
      "Classification    990 non-null object\n",
      "dtypes: object(2)\n",
      "memory usage: 15.5+ KB\n"
     ]
    }
   ],
   "source": [
    "data.info()"
   ]
  },
  {
   "cell_type": "code",
   "execution_count": 100,
   "metadata": {
    "colab": {},
    "colab_type": "code",
    "id": "WhMWexxFmF5y"
   },
   "outputs": [],
   "source": [
    "del train"
   ]
  },
  {
   "cell_type": "markdown",
   "metadata": {
    "colab_type": "text",
    "id": "ymXM6cBbbNNW"
   },
   "source": [
    "# Dropping missing values"
   ]
  },
  {
   "cell_type": "code",
   "execution_count": 101,
   "metadata": {
    "colab": {
     "base_uri": "https://localhost:8080/",
     "height": 34
    },
    "colab_type": "code",
    "executionInfo": {
     "elapsed": 3763,
     "status": "ok",
     "timestamp": 1553522558966,
     "user": {
      "displayName": "User User",
      "photoUrl": "",
      "userId": "11623809594633842467"
     },
     "user_tz": -330
    },
    "id": "9HjoybQ2mF6C",
    "outputId": "9800bf71-e234-4eb1-a85a-ed905b96edcb"
   },
   "outputs": [
    {
     "data": {
      "text/plain": [
       "154"
      ]
     },
     "execution_count": 101,
     "metadata": {},
     "output_type": "execute_result"
    }
   ],
   "source": [
    "nanVal = data['Abstract'].isna().sum()\n",
    "nanVal"
   ]
  },
  {
   "cell_type": "code",
   "execution_count": 102,
   "metadata": {
    "colab": {
     "base_uri": "https://localhost:8080/",
     "height": 221
    },
    "colab_type": "code",
    "executionInfo": {
     "elapsed": 3749,
     "status": "ok",
     "timestamp": 1553522558977,
     "user": {
      "displayName": "User User",
      "photoUrl": "",
      "userId": "11623809594633842467"
     },
     "user_tz": -330
    },
    "id": "MrjEan2-mF6Z",
    "outputId": "cb779851-ec32-4457-ee78-5d30004b2cbe"
   },
   "outputs": [
    {
     "name": "stdout",
     "output_type": "stream",
     "text": [
      "(836, 2)\n"
     ]
    },
    {
     "data": {
      "text/html": [
       "<div>\n",
       "<style scoped>\n",
       "    .dataframe tbody tr th:only-of-type {\n",
       "        vertical-align: middle;\n",
       "    }\n",
       "\n",
       "    .dataframe tbody tr th {\n",
       "        vertical-align: top;\n",
       "    }\n",
       "\n",
       "    .dataframe thead th {\n",
       "        text-align: right;\n",
       "    }\n",
       "</style>\n",
       "<table border=\"1\" class=\"dataframe\">\n",
       "  <thead>\n",
       "    <tr style=\"text-align: right;\">\n",
       "      <th></th>\n",
       "      <th>Abstract</th>\n",
       "      <th>Classification</th>\n",
       "    </tr>\n",
       "  </thead>\n",
       "  <tbody>\n",
       "    <tr>\n",
       "      <th>1</th>\n",
       "      <td>Background: Cardiovascular disease is a seriou...</td>\n",
       "      <td>Invalid</td>\n",
       "    </tr>\n",
       "    <tr>\n",
       "      <th>2</th>\n",
       "      <td>Ibritumomab Tiuxetan (Zevalin) is an anti CD-2...</td>\n",
       "      <td>Invalid</td>\n",
       "    </tr>\n",
       "    <tr>\n",
       "      <th>3</th>\n",
       "      <td>Management of movement disorders in children i...</td>\n",
       "      <td>Invalid</td>\n",
       "    </tr>\n",
       "    <tr>\n",
       "      <th>4</th>\n",
       "      <td>Purpose: Polymicrogyria, a malformation of the...</td>\n",
       "      <td>Rejected</td>\n",
       "    </tr>\n",
       "    <tr>\n",
       "      <th>5</th>\n",
       "      <td>Proteins are often credited as the macromolecu...</td>\n",
       "      <td>Rejected</td>\n",
       "    </tr>\n",
       "  </tbody>\n",
       "</table>\n",
       "</div>"
      ],
      "text/plain": [
       "                                            Abstract Classification\n",
       "1  Background: Cardiovascular disease is a seriou...        Invalid\n",
       "2  Ibritumomab Tiuxetan (Zevalin) is an anti CD-2...        Invalid\n",
       "3  Management of movement disorders in children i...        Invalid\n",
       "4  Purpose: Polymicrogyria, a malformation of the...       Rejected\n",
       "5  Proteins are often credited as the macromolecu...       Rejected"
      ]
     },
     "execution_count": 102,
     "metadata": {},
     "output_type": "execute_result"
    }
   ],
   "source": [
    "data = data.dropna()\n",
    "print(data.shape)\n",
    "data.head()"
   ]
  },
  {
   "cell_type": "markdown",
   "metadata": {
    "colab_type": "text",
    "id": "CboAU6HPbWHG"
   },
   "source": [
    "# Cleaning Data\n",
    "\n",
    "1.   Tokenizing \n",
    "2.   Lemmatizing\n",
    "3.   Removing Stopwords and Punctuation.\n",
    "\n"
   ]
  },
  {
   "cell_type": "code",
   "execution_count": 103,
   "metadata": {
    "colab": {},
    "colab_type": "code",
    "id": "G6jcIJyGmF6y"
   },
   "outputs": [],
   "source": [
    "import nltk\n",
    "from nltk.corpus import stopwords\n",
    "import string\n",
    "from nltk.stem import WordNetLemmatizer"
   ]
  },
  {
   "cell_type": "code",
   "execution_count": 104,
   "metadata": {
    "colab": {
     "base_uri": "https://localhost:8080/",
     "height": 68
    },
    "colab_type": "code",
    "executionInfo": {
     "elapsed": 4291,
     "status": "ok",
     "timestamp": 1553522559579,
     "user": {
      "displayName": "User User",
      "photoUrl": "",
      "userId": "11623809594633842467"
     },
     "user_tz": -330
    },
    "id": "rkd2XdBqnfMQ",
    "outputId": "b73e0057-782c-4007-c5ae-040c4c4ef8eb"
   },
   "outputs": [
    {
     "name": "stdout",
     "output_type": "stream",
     "text": [
      "[nltk_data] Downloading package stopwords to\n",
      "[nltk_data]     /home/ec2-user/nltk_data...\n",
      "[nltk_data]   Package stopwords is already up-to-date!\n"
     ]
    },
    {
     "data": {
      "text/plain": [
       "True"
      ]
     },
     "execution_count": 104,
     "metadata": {},
     "output_type": "execute_result"
    }
   ],
   "source": [
    "nltk.download('stopwords')"
   ]
  },
  {
   "cell_type": "code",
   "execution_count": 105,
   "metadata": {
    "colab": {
     "base_uri": "https://localhost:8080/",
     "height": 68
    },
    "colab_type": "code",
    "executionInfo": {
     "elapsed": 4262,
     "status": "ok",
     "timestamp": 1553522559581,
     "user": {
      "displayName": "User User",
      "photoUrl": "",
      "userId": "11623809594633842467"
     },
     "user_tz": -330
    },
    "id": "ac0mziJ4nwsu",
    "outputId": "14ef3354-3295-40d2-e1a6-91509fc38da0"
   },
   "outputs": [
    {
     "name": "stdout",
     "output_type": "stream",
     "text": [
      "[nltk_data] Downloading package punkt to /home/ec2-user/nltk_data...\n",
      "[nltk_data]   Package punkt is already up-to-date!\n"
     ]
    },
    {
     "data": {
      "text/plain": [
       "True"
      ]
     },
     "execution_count": 105,
     "metadata": {},
     "output_type": "execute_result"
    }
   ],
   "source": [
    "nltk.download('punkt')"
   ]
  },
  {
   "cell_type": "code",
   "execution_count": 106,
   "metadata": {
    "colab": {
     "base_uri": "https://localhost:8080/",
     "height": 68
    },
    "colab_type": "code",
    "executionInfo": {
     "elapsed": 4235,
     "status": "ok",
     "timestamp": 1553522559584,
     "user": {
      "displayName": "User User",
      "photoUrl": "",
      "userId": "11623809594633842467"
     },
     "user_tz": -330
    },
    "id": "E_Gv64pJoBbz",
    "outputId": "2112e787-a626-42ac-a035-14cae79d5532"
   },
   "outputs": [
    {
     "name": "stdout",
     "output_type": "stream",
     "text": [
      "[nltk_data] Downloading package wordnet to /home/ec2-user/nltk_data...\n",
      "[nltk_data]   Package wordnet is already up-to-date!\n"
     ]
    },
    {
     "data": {
      "text/plain": [
       "True"
      ]
     },
     "execution_count": 106,
     "metadata": {},
     "output_type": "execute_result"
    }
   ],
   "source": [
    "nltk.download('wordnet')"
   ]
  },
  {
   "cell_type": "code",
   "execution_count": 107,
   "metadata": {
    "colab": {},
    "colab_type": "code",
    "id": "923kxfJGmF7L"
   },
   "outputs": [],
   "source": [
    "stopword = stopwords.words('english')\n",
    "len(stopword)\n",
    "lemmatizer = WordNetLemmatizer()"
   ]
  },
  {
   "cell_type": "code",
   "execution_count": 108,
   "metadata": {
    "colab": {
     "base_uri": "https://localhost:8080/",
     "height": 3060
    },
    "colab_type": "code",
    "executionInfo": {
     "elapsed": 4173,
     "status": "ok",
     "timestamp": 1553522559592,
     "user": {
      "displayName": "User User",
      "photoUrl": "",
      "userId": "11623809594633842467"
     },
     "user_tz": -330
    },
    "id": "IGZpFWSvD65L",
    "outputId": "4d0b0769-2c34-47ae-8db4-9d5d5d776eae"
   },
   "outputs": [],
   "source": [
    "# stopword"
   ]
  },
  {
   "cell_type": "code",
   "execution_count": 109,
   "metadata": {
    "colab": {},
    "colab_type": "code",
    "id": "MigYDl5imF7a"
   },
   "outputs": [],
   "source": [
    "def clean_data(text):\n",
    "    tokens = nltk.word_tokenize(text)\n",
    "    no_stop = [word for word in tokens if word not in stopword]\n",
    "    no_punc = \" \".join([lemmatizer.lemmatize(word) for word in no_stop if word not in string.punctuation])\n",
    "    return no_punc"
   ]
  },
  {
   "cell_type": "code",
   "execution_count": 110,
   "metadata": {
    "colab": {
     "base_uri": "https://localhost:8080/",
     "height": 204
    },
    "colab_type": "code",
    "executionInfo": {
     "elapsed": 9262,
     "status": "ok",
     "timestamp": 1553522564732,
     "user": {
      "displayName": "User User",
      "photoUrl": "",
      "userId": "11623809594633842467"
     },
     "user_tz": -330
    },
    "id": "6wdTK_K8mF7q",
    "outputId": "9e62ac67-ae05-4d3b-99a0-2f1ba1964ef2"
   },
   "outputs": [
    {
     "data": {
      "text/html": [
       "<div>\n",
       "<style scoped>\n",
       "    .dataframe tbody tr th:only-of-type {\n",
       "        vertical-align: middle;\n",
       "    }\n",
       "\n",
       "    .dataframe tbody tr th {\n",
       "        vertical-align: top;\n",
       "    }\n",
       "\n",
       "    .dataframe thead th {\n",
       "        text-align: right;\n",
       "    }\n",
       "</style>\n",
       "<table border=\"1\" class=\"dataframe\">\n",
       "  <thead>\n",
       "    <tr style=\"text-align: right;\">\n",
       "      <th></th>\n",
       "      <th>Abstract</th>\n",
       "      <th>Classification</th>\n",
       "      <th>abs_token</th>\n",
       "    </tr>\n",
       "  </thead>\n",
       "  <tbody>\n",
       "    <tr>\n",
       "      <th>1</th>\n",
       "      <td>Background: Cardiovascular disease is a seriou...</td>\n",
       "      <td>Invalid</td>\n",
       "      <td>Background Cardiovascular disease serious prob...</td>\n",
       "    </tr>\n",
       "    <tr>\n",
       "      <th>2</th>\n",
       "      <td>Ibritumomab Tiuxetan (Zevalin) is an anti CD-2...</td>\n",
       "      <td>Invalid</td>\n",
       "      <td>Ibritumomab Tiuxetan Zevalin anti CD-20 murine...</td>\n",
       "    </tr>\n",
       "    <tr>\n",
       "      <th>3</th>\n",
       "      <td>Management of movement disorders in children i...</td>\n",
       "      <td>Invalid</td>\n",
       "      <td>Management movement disorder child evolving fi...</td>\n",
       "    </tr>\n",
       "    <tr>\n",
       "      <th>4</th>\n",
       "      <td>Purpose: Polymicrogyria, a malformation of the...</td>\n",
       "      <td>Rejected</td>\n",
       "      <td>Purpose Polymicrogyria malformation cerebral c...</td>\n",
       "    </tr>\n",
       "    <tr>\n",
       "      <th>5</th>\n",
       "      <td>Proteins are often credited as the macromolecu...</td>\n",
       "      <td>Rejected</td>\n",
       "      <td>Proteins often credited macromolecule responsi...</td>\n",
       "    </tr>\n",
       "  </tbody>\n",
       "</table>\n",
       "</div>"
      ],
      "text/plain": [
       "                                            Abstract Classification  \\\n",
       "1  Background: Cardiovascular disease is a seriou...        Invalid   \n",
       "2  Ibritumomab Tiuxetan (Zevalin) is an anti CD-2...        Invalid   \n",
       "3  Management of movement disorders in children i...        Invalid   \n",
       "4  Purpose: Polymicrogyria, a malformation of the...       Rejected   \n",
       "5  Proteins are often credited as the macromolecu...       Rejected   \n",
       "\n",
       "                                           abs_token  \n",
       "1  Background Cardiovascular disease serious prob...  \n",
       "2  Ibritumomab Tiuxetan Zevalin anti CD-20 murine...  \n",
       "3  Management movement disorder child evolving fi...  \n",
       "4  Purpose Polymicrogyria malformation cerebral c...  \n",
       "5  Proteins often credited macromolecule responsi...  "
      ]
     },
     "execution_count": 110,
     "metadata": {},
     "output_type": "execute_result"
    }
   ],
   "source": [
    "data['abs_token'] = data['Abstract'].apply(lambda x : clean_data(x))\n",
    "data.head()"
   ]
  },
  {
   "cell_type": "markdown",
   "metadata": {
    "colab_type": "text",
    "id": "Pv_dPoMPcsZg"
   },
   "source": [
    "# Vectorization"
   ]
  },
  {
   "cell_type": "code",
   "execution_count": 111,
   "metadata": {
    "colab": {},
    "colab_type": "code",
    "id": "_ladeDUNmF8G"
   },
   "outputs": [],
   "source": [
    "from sklearn.feature_extraction.text import TfidfVectorizer\n",
    "from sklearn.feature_extraction.text import CountVectorizer"
   ]
  },
  {
   "cell_type": "code",
   "execution_count": 112,
   "metadata": {},
   "outputs": [
    {
     "data": {
      "text/plain": [
       "scipy.sparse.csr.csr_matrix"
      ]
     },
     "execution_count": 112,
     "metadata": {},
     "output_type": "execute_result"
    }
   ],
   "source": [
    "cVect = CountVectorizer()\n",
    "features_c = cVect.fit_transform(data['abs_token'])\n",
    "type(features_c)"
   ]
  },
  {
   "cell_type": "code",
   "execution_count": 113,
   "metadata": {},
   "outputs": [
    {
     "data": {
      "text/html": [
       "<div>\n",
       "<style scoped>\n",
       "    .dataframe tbody tr th:only-of-type {\n",
       "        vertical-align: middle;\n",
       "    }\n",
       "\n",
       "    .dataframe tbody tr th {\n",
       "        vertical-align: top;\n",
       "    }\n",
       "\n",
       "    .dataframe thead th {\n",
       "        text-align: right;\n",
       "    }\n",
       "</style>\n",
       "<table border=\"1\" class=\"dataframe\">\n",
       "  <thead>\n",
       "    <tr style=\"text-align: right;\">\n",
       "      <th></th>\n",
       "      <th>00</th>\n",
       "      <th>000</th>\n",
       "      <th>00001</th>\n",
       "      <th>0001</th>\n",
       "      <th>00018</th>\n",
       "      <th>0002</th>\n",
       "      <th>0003</th>\n",
       "      <th>0004</th>\n",
       "      <th>0005</th>\n",
       "      <th>0006</th>\n",
       "      <th>...</th>\n",
       "      <th>β2</th>\n",
       "      <th>δ12</th>\n",
       "      <th>δmnn2</th>\n",
       "      <th>η6</th>\n",
       "      <th>κb</th>\n",
       "      <th>μg</th>\n",
       "      <th>μl</th>\n",
       "      <th>μm</th>\n",
       "      <th>μmol</th>\n",
       "      <th>μsv</th>\n",
       "    </tr>\n",
       "  </thead>\n",
       "  <tbody>\n",
       "    <tr>\n",
       "      <th>0</th>\n",
       "      <td>0</td>\n",
       "      <td>1</td>\n",
       "      <td>0</td>\n",
       "      <td>0</td>\n",
       "      <td>0</td>\n",
       "      <td>0</td>\n",
       "      <td>0</td>\n",
       "      <td>0</td>\n",
       "      <td>0</td>\n",
       "      <td>0</td>\n",
       "      <td>...</td>\n",
       "      <td>0</td>\n",
       "      <td>0</td>\n",
       "      <td>0</td>\n",
       "      <td>0</td>\n",
       "      <td>0</td>\n",
       "      <td>0</td>\n",
       "      <td>0</td>\n",
       "      <td>0</td>\n",
       "      <td>0</td>\n",
       "      <td>0</td>\n",
       "    </tr>\n",
       "    <tr>\n",
       "      <th>1</th>\n",
       "      <td>0</td>\n",
       "      <td>0</td>\n",
       "      <td>0</td>\n",
       "      <td>0</td>\n",
       "      <td>0</td>\n",
       "      <td>0</td>\n",
       "      <td>0</td>\n",
       "      <td>0</td>\n",
       "      <td>0</td>\n",
       "      <td>0</td>\n",
       "      <td>...</td>\n",
       "      <td>0</td>\n",
       "      <td>0</td>\n",
       "      <td>0</td>\n",
       "      <td>0</td>\n",
       "      <td>0</td>\n",
       "      <td>0</td>\n",
       "      <td>0</td>\n",
       "      <td>0</td>\n",
       "      <td>0</td>\n",
       "      <td>0</td>\n",
       "    </tr>\n",
       "    <tr>\n",
       "      <th>2</th>\n",
       "      <td>0</td>\n",
       "      <td>0</td>\n",
       "      <td>0</td>\n",
       "      <td>0</td>\n",
       "      <td>0</td>\n",
       "      <td>0</td>\n",
       "      <td>0</td>\n",
       "      <td>0</td>\n",
       "      <td>0</td>\n",
       "      <td>0</td>\n",
       "      <td>...</td>\n",
       "      <td>0</td>\n",
       "      <td>0</td>\n",
       "      <td>0</td>\n",
       "      <td>0</td>\n",
       "      <td>0</td>\n",
       "      <td>0</td>\n",
       "      <td>0</td>\n",
       "      <td>0</td>\n",
       "      <td>0</td>\n",
       "      <td>0</td>\n",
       "    </tr>\n",
       "    <tr>\n",
       "      <th>3</th>\n",
       "      <td>0</td>\n",
       "      <td>0</td>\n",
       "      <td>0</td>\n",
       "      <td>0</td>\n",
       "      <td>0</td>\n",
       "      <td>0</td>\n",
       "      <td>0</td>\n",
       "      <td>0</td>\n",
       "      <td>0</td>\n",
       "      <td>0</td>\n",
       "      <td>...</td>\n",
       "      <td>0</td>\n",
       "      <td>0</td>\n",
       "      <td>0</td>\n",
       "      <td>0</td>\n",
       "      <td>0</td>\n",
       "      <td>0</td>\n",
       "      <td>0</td>\n",
       "      <td>0</td>\n",
       "      <td>0</td>\n",
       "      <td>0</td>\n",
       "    </tr>\n",
       "    <tr>\n",
       "      <th>4</th>\n",
       "      <td>0</td>\n",
       "      <td>0</td>\n",
       "      <td>0</td>\n",
       "      <td>0</td>\n",
       "      <td>0</td>\n",
       "      <td>0</td>\n",
       "      <td>0</td>\n",
       "      <td>0</td>\n",
       "      <td>0</td>\n",
       "      <td>0</td>\n",
       "      <td>...</td>\n",
       "      <td>0</td>\n",
       "      <td>0</td>\n",
       "      <td>0</td>\n",
       "      <td>0</td>\n",
       "      <td>0</td>\n",
       "      <td>0</td>\n",
       "      <td>0</td>\n",
       "      <td>0</td>\n",
       "      <td>0</td>\n",
       "      <td>0</td>\n",
       "    </tr>\n",
       "  </tbody>\n",
       "</table>\n",
       "<p>5 rows × 12861 columns</p>\n",
       "</div>"
      ],
      "text/plain": [
       "   00  000  00001  0001  00018  0002  0003  0004  0005  0006 ...   β2  δ12  \\\n",
       "0   0    1      0     0      0     0     0     0     0     0 ...    0    0   \n",
       "1   0    0      0     0      0     0     0     0     0     0 ...    0    0   \n",
       "2   0    0      0     0      0     0     0     0     0     0 ...    0    0   \n",
       "3   0    0      0     0      0     0     0     0     0     0 ...    0    0   \n",
       "4   0    0      0     0      0     0     0     0     0     0 ...    0    0   \n",
       "\n",
       "   δmnn2  η6  κb  μg  μl  μm  μmol  μsv  \n",
       "0      0   0   0   0   0   0     0    0  \n",
       "1      0   0   0   0   0   0     0    0  \n",
       "2      0   0   0   0   0   0     0    0  \n",
       "3      0   0   0   0   0   0     0    0  \n",
       "4      0   0   0   0   0   0     0    0  \n",
       "\n",
       "[5 rows x 12861 columns]"
      ]
     },
     "execution_count": 113,
     "metadata": {},
     "output_type": "execute_result"
    }
   ],
   "source": [
    "features_c = pd.DataFrame(features_c.todense())\n",
    "features_c.columns = cVect.get_feature_names()\n",
    "features_c.head()"
   ]
  },
  {
   "cell_type": "code",
   "execution_count": 114,
   "metadata": {
    "colab": {
     "base_uri": "https://localhost:8080/",
     "height": 51
    },
    "colab_type": "code",
    "executionInfo": {
     "elapsed": 9240,
     "status": "ok",
     "timestamp": 1553522564765,
     "user": {
      "displayName": "User User",
      "photoUrl": "",
      "userId": "11623809594633842467"
     },
     "user_tz": -330
    },
    "id": "apu0i7wdmF8U",
    "outputId": "64cbdde8-ebfd-4399-eef8-e422cc05749f"
   },
   "outputs": [
    {
     "name": "stdout",
     "output_type": "stream",
     "text": [
      "<class 'scipy.sparse.csr.csr_matrix'>\n",
      "(836, 12861)\n"
     ]
    }
   ],
   "source": [
    "vectorizer = TfidfVectorizer()\n",
    "features = vectorizer.fit_transform(data['abs_token'])\n",
    "print(type(features))\n",
    "print(features.shape)\n",
    "x = features.toarray()"
   ]
  },
  {
   "cell_type": "code",
   "execution_count": 115,
   "metadata": {
    "colab": {
     "base_uri": "https://localhost:8080/",
     "height": 136
    },
    "colab_type": "code",
    "executionInfo": {
     "elapsed": 9221,
     "status": "ok",
     "timestamp": 1553522564771,
     "user": {
      "displayName": "User User",
      "photoUrl": "",
      "userId": "11623809594633842467"
     },
     "user_tz": -330
    },
    "id": "T5dw_fRAmF8j",
    "outputId": "861c8b05-e81f-441d-ff43-f6cadd4c0664"
   },
   "outputs": [
    {
     "name": "stdout",
     "output_type": "stream",
     "text": [
      "['Rejected', 'Invalid', 'Invalid-awaiting FTA', 'Valid']\n"
     ]
    },
    {
     "data": {
      "text/plain": [
       "1     Invalid\n",
       "2     Invalid\n",
       "3     Invalid\n",
       "4    Rejected\n",
       "5    Rejected\n",
       "Name: Classification, dtype: object"
      ]
     },
     "execution_count": 115,
     "metadata": {},
     "output_type": "execute_result"
    }
   ],
   "source": [
    "labels = data['Classification']\n",
    "uniq_labels = list(set(labels))\n",
    "print(uniq_labels)\n",
    "labels.head()"
   ]
  },
  {
   "cell_type": "code",
   "execution_count": 116,
   "metadata": {
    "colab": {
     "base_uri": "https://localhost:8080/",
     "height": 51
    },
    "colab_type": "code",
    "executionInfo": {
     "elapsed": 9178,
     "status": "ok",
     "timestamp": 1553522564775,
     "user": {
      "displayName": "User User",
      "photoUrl": "",
      "userId": "11623809594633842467"
     },
     "user_tz": -330
    },
    "id": "RIwwVYN3mF8y",
    "outputId": "f226863e-ab82-4348-8dd5-ee4366326f27"
   },
   "outputs": [
    {
     "name": "stdout",
     "output_type": "stream",
     "text": [
      "[0 0 0 2 2 2 0 2 2 0]\n"
     ]
    },
    {
     "data": {
      "text/plain": [
       "{0, 1, 2, 3}"
      ]
     },
     "execution_count": 116,
     "metadata": {},
     "output_type": "execute_result"
    }
   ],
   "source": [
    "from sklearn.preprocessing import LabelEncoder\n",
    "le = LabelEncoder()\n",
    "labels = le.fit_transform(labels)\n",
    "print(labels[:10])\n",
    "set(labels)"
   ]
  },
  {
   "cell_type": "code",
   "execution_count": 159,
   "metadata": {},
   "outputs": [
    {
     "name": "stderr",
     "output_type": "stream",
     "text": [
      "/home/ec2-user/anaconda3/envs/python3/lib/python3.6/site-packages/sklearn/preprocessing/label.py:151: DeprecationWarning: The truth value of an empty array is ambiguous. Returning False, but in future this will result in an error. Use `array.size > 0` to check that an array is not empty.\n",
      "  if diff:\n"
     ]
    },
    {
     "data": {
      "text/plain": [
       "'Invalid-awaiting FTA'"
      ]
     },
     "execution_count": 159,
     "metadata": {},
     "output_type": "execute_result"
    }
   ],
   "source": [
    "le.inverse_transform(1)"
   ]
  },
  {
   "cell_type": "code",
   "execution_count": 117,
   "metadata": {
    "colab": {},
    "colab_type": "code",
    "id": "sgtp5ho8mF9I"
   },
   "outputs": [],
   "source": [
    "rej = sum(data['Classification'] == 'Rejected')\n",
    "invalid = sum(data['Classification'] == 'Invalid')\n",
    "valid = sum(data['Classification'] == 'Valid')\n",
    "awaitFTA = sum(data['Classification'] == 'Invalid-awaiting FTA')"
   ]
  },
  {
   "cell_type": "code",
   "execution_count": 160,
   "metadata": {
    "colab": {
     "base_uri": "https://localhost:8080/",
     "height": 34
    },
    "colab_type": "code",
    "executionInfo": {
     "elapsed": 9142,
     "status": "ok",
     "timestamp": 1553522564789,
     "user": {
      "displayName": "User User",
      "photoUrl": "",
      "userId": "11623809594633842467"
     },
     "user_tz": -330
    },
    "id": "IvZ9TPczmF9d",
    "outputId": "6742fe11-9de1-4068-a987-a63b40eb7ae7"
   },
   "outputs": [
    {
     "data": {
      "text/plain": [
       "[337, 418, 59, 22]"
      ]
     },
     "execution_count": 160,
     "metadata": {},
     "output_type": "execute_result"
    }
   ],
   "source": [
    "counts = [rej, invalid, awaitFTA, valid]\n",
    "counts"
   ]
  },
  {
   "cell_type": "markdown",
   "metadata": {
    "colab_type": "text",
    "id": "HIFRd8RrmF90"
   },
   "source": [
    "# Plotting the Data"
   ]
  },
  {
   "cell_type": "code",
   "execution_count": null,
   "metadata": {
    "colab": {
     "base_uri": "https://localhost:8080/",
     "height": 401
    },
    "colab_type": "code",
    "executionInfo": {
     "elapsed": 9861,
     "status": "ok",
     "timestamp": 1553522565534,
     "user": {
      "displayName": "User User",
      "photoUrl": "",
      "userId": "11623809594633842467"
     },
     "user_tz": -330
    },
    "id": "xNiU1xZRmF-C",
    "outputId": "d323256f-fdfd-4ee8-d6bd-b68c3a20ed57"
   },
   "outputs": [
    {
     "data": {
      "image/png": "[encoded data removed]",
      "text/plain": [
       "<Figure size 432x288 with 1 Axes>"
      ]
     },
     "metadata": {},
     "output_type": "display_data"
    }
   ],
   "source": [
    "import seaborn as sns\n",
    "import matplotlib.pyplot as plt\n",
    "import numpy as np\n",
    "\n",
    "index = np.arange(4)\n",
    "fig, ax = plt.subplots()\n",
    "rect = ax.bar(index, counts, 0.35, color='b', label='Values')\n",
    "ax.set_xlabel('Labels')\n",
    "ax.set_ylabel('No of Records')\n",
    "ax.set_xticks(index + 0.35/2)\n",
    "ax.set_xticklabels(uniq_labels)\n",
    "ax.legend()\n",
    "fig.tight_layout()\n",
    "plt.show()"
   ]
  },
  {
   "cell_type": "code",
   "execution_count": 162,
   "metadata": {
    "colab": {
     "base_uri": "https://localhost:8080/",
     "height": 412
    },
    "colab_type": "code",
    "executionInfo": {
     "elapsed": 9841,
     "status": "ok",
     "timestamp": 1553522565538,
     "user": {
      "displayName": "User User",
      "photoUrl": "",
      "userId": "11623809594633842467"
     },
     "user_tz": -330
    },
    "id": "_Q63p5C3mF-q",
    "outputId": "b9117121-7b7d-49a1-c20e-327bf7d089d2"
   },
   "outputs": [
    {
     "data": {
      "text/plain": [
       "Text(0.5,0,'Labels')"
      ]
     },
     "execution_count": 162,
     "metadata": {},
     "output_type": "execute_result"
    },
    {
     "data": {
      "image/png": "[encoded data removed]",
      "text/plain": [
       "<Figure size 432x288 with 1 Axes>"
      ]
     },
     "metadata": {},
     "output_type": "display_data"
    }
   ],
   "source": [
    "f, ax1 = plt.subplots()\n",
    "sns.barplot(x=uniq_labels, y=counts, palette=\"deep\", ax=ax1)\n",
    "ax1.set_ylabel(\"No of Records\")\n",
    "ax1.set_xlabel(\"Labels\")"
   ]
  },
  {
   "cell_type": "markdown",
   "metadata": {
    "colab_type": "text",
    "id": "NNOfmNCHmF-5"
   },
   "source": [
    "# Splitting the data"
   ]
  },
  {
   "cell_type": "code",
   "execution_count": 121,
   "metadata": {
    "colab": {},
    "colab_type": "code",
    "id": "Dc4LbcYomF-9"
   },
   "outputs": [],
   "source": [
    "from sklearn.model_selection import train_test_split\n",
    "features_train, features_test, labels_train, labels_test = train_test_split(features, labels, test_size=0.3)"
   ]
  },
  {
   "cell_type": "code",
   "execution_count": 170,
   "metadata": {
    "colab": {
     "base_uri": "https://localhost:8080/",
     "height": 68
    },
    "colab_type": "code",
    "executionInfo": {
     "elapsed": 9806,
     "status": "ok",
     "timestamp": 1553522565551,
     "user": {
      "displayName": "User User",
      "photoUrl": "",
      "userId": "11623809594633842467"
     },
     "user_tz": -330
    },
    "id": "YvwJhx0XmF_E",
    "outputId": "fd4567c8-9940-4323-884b-aa1f1de24d29"
   },
   "outputs": [
    {
     "name": "stdout",
     "output_type": "stream",
     "text": [
      "(585, 12861)\n",
      "(251, 12861)\n"
     ]
    },
    {
     "data": {
      "text/plain": [
       "(585,)"
      ]
     },
     "execution_count": 170,
     "metadata": {},
     "output_type": "execute_result"
    }
   ],
   "source": [
    "print(features_train.shape)\n",
    "print(features_test.shape)\n",
    "labels_train.shape"
   ]
  },
  {
   "cell_type": "markdown",
   "metadata": {},
   "source": [
    "# Training SageMaker model"
   ]
  },
  {
   "cell_type": "code",
   "execution_count": 123,
   "metadata": {},
   "outputs": [],
   "source": [
    "from sagemaker.amazon.amazon_estimator import get_image_uri\n",
    "container = get_image_uri(region, 'xgboost')"
   ]
  },
  {
   "cell_type": "code",
   "execution_count": 124,
   "metadata": {
    "colab": {},
    "colab_type": "code",
    "id": "3zmiho1omF_R"
   },
   "outputs": [],
   "source": [
    "import xgboost as xgb\n",
    "from sklearn.ensemble import RandomForestClassifier"
   ]
  },
  {
   "cell_type": "code",
   "execution_count": 125,
   "metadata": {
    "colab": {
     "base_uri": "https://localhost:8080/",
     "height": 51
    },
    "colab_type": "code",
    "executionInfo": {
     "elapsed": 13670,
     "status": "ok",
     "timestamp": 1553522569464,
     "user": {
      "displayName": "User User",
      "photoUrl": "",
      "userId": "11623809594633842467"
     },
     "user_tz": -330
    },
    "id": "rb4dYgWDmF_j",
    "outputId": "aaf37b8e-4fc7-4fef-9340-728cfbc2403f"
   },
   "outputs": [
    {
     "name": "stdout",
     "output_type": "stream",
     "text": [
      "CPU times: user 13.9 s, sys: 0 ns, total: 13.9 s\n",
      "Wall time: 13.9 s\n"
     ]
    }
   ],
   "source": [
    "%%time\n",
    "clf1 = xgb.XGBClassifier()\n",
    "clf1.fit(features, labels)"
   ]
  },
  {
   "cell_type": "code",
   "execution_count": 126,
   "metadata": {},
   "outputs": [
    {
     "name": "stdout",
     "output_type": "stream",
     "text": [
      "CPU times: user 11 µs, sys: 0 ns, total: 11 µs\n",
      "Wall time: 15 µs\n"
     ]
    }
   ],
   "source": [
    "%%time\n",
    "import pickle, gzip, numpy, urllib.request, json"
   ]
  },
  {
   "cell_type": "code",
   "execution_count": 127,
   "metadata": {},
   "outputs": [],
   "source": [
    "model_file_name = \"xgboost-model\"\n",
    "clf1._Booster.save_model(model_file_name)"
   ]
  },
  {
   "cell_type": "code",
   "execution_count": 128,
   "metadata": {},
   "outputs": [
    {
     "name": "stdout",
     "output_type": "stream",
     "text": [
      "xgboost-model\n"
     ]
    }
   ],
   "source": [
    "!tar czvf model.tar.gz $model_file_name"
   ]
  },
  {
   "cell_type": "code",
   "execution_count": 129,
   "metadata": {},
   "outputs": [],
   "source": [
    "fObj = open(\"model.tar.gz\", 'rb')\n",
    "key= os.path.join(prefix, model_file_name, 'model.tar.gz')\n",
    "boto3.Session().resource('s3').Bucket(bucket).Object(key).upload_fileobj(fObj)"
   ]
  },
  {
   "cell_type": "code",
   "execution_count": 130,
   "metadata": {},
   "outputs": [],
   "source": [
    "from sagemaker.amazon.amazon_estimator import get_image_uri\n",
    "container = get_image_uri(boto3.Session().region_name, 'xgboost')"
   ]
  },
  {
   "cell_type": "markdown",
   "metadata": {},
   "source": [
    "## Creating Endpoint Configuration"
   ]
  },
  {
   "cell_type": "code",
   "execution_count": 71,
   "metadata": {},
   "outputs": [
    {
     "name": "stdout",
     "output_type": "stream",
     "text": [
      "https://s3-us-east-2.amazonaws.com/alitewareml/sagemaker/aliteml/xgboost-model/model.tar.gz\n",
      "arn:aws:sagemaker:us-east-2:947903643832:model/xgboost-model2019-03-28-16-37-02\n",
      "CPU times: user 50.5 ms, sys: 0 ns, total: 50.5 ms\n",
      "Wall time: 328 ms\n"
     ]
    }
   ],
   "source": [
    "%%time\n",
    "from time import gmtime, strftime\n",
    "\n",
    "model_name = model_file_name + strftime(\"%Y-%m-%d-%H-%M-%S\", gmtime())\n",
    "model_url = 'https://s3-{}.amazonaws.com/{}/{}'.format(region,bucket,key)\n",
    "sm_client = boto3.client('sagemaker')\n",
    "\n",
    "print (model_url)\n",
    "\n",
    "primary_container = {\n",
    "    'Image': container,\n",
    "    'ModelDataUrl': model_url,\n",
    "}\n",
    "\n",
    "create_model_response2 = sm_client.create_model(\n",
    "    ModelName = model_name,\n",
    "    ExecutionRoleArn = role,\n",
    "    PrimaryContainer = primary_container)\n",
    "\n",
    "print(create_model_response2['ModelArn'])"
   ]
  },
  {
   "cell_type": "code",
   "execution_count": 74,
   "metadata": {},
   "outputs": [
    {
     "name": "stdout",
     "output_type": "stream",
     "text": [
      "DEMO-XGBoostEndpointConfig-2019-03-28-16-39-47\n",
      "Endpoint Config Arn: arn:aws:sagemaker:us-east-2:947903643832:endpoint-config/demo-xgboostendpointconfig-2019-03-28-16-39-47\n"
     ]
    }
   ],
   "source": [
    "from time import gmtime, strftime\n",
    "\n",
    "endpoint_config_name = 'DEMO-XGBoostEndpointConfig-' + strftime(\"%Y-%m-%d-%H-%M-%S\", gmtime())\n",
    "print(endpoint_config_name)\n",
    "create_endpoint_config_response = sm_client.create_endpoint_config(\n",
    "    EndpointConfigName = endpoint_config_name,\n",
    "    ProductionVariants=[{\n",
    "        'InstanceType':'ml.t2.medium',\n",
    "        'InitialInstanceCount':1,\n",
    "        'InitialVariantWeight':1,\n",
    "        'ModelName':model_name,\n",
    "        'VariantName':'AllTraffic'}])\n",
    "\n",
    "print(\"Endpoint Config Arn: \" + create_endpoint_config_response['EndpointConfigArn'])"
   ]
  },
  {
   "cell_type": "markdown",
   "metadata": {},
   "source": [
    "## Creating Endpoint"
   ]
  },
  {
   "cell_type": "code",
   "execution_count": 75,
   "metadata": {},
   "outputs": [
    {
     "name": "stdout",
     "output_type": "stream",
     "text": [
      "DEMO-XGBoostEndpoint-2019-03-28-16-39-48\n",
      "arn:aws:sagemaker:us-east-2:947903643832:endpoint/demo-xgboostendpoint-2019-03-28-16-39-48\n",
      "Status: Creating\n",
      "Status: Creating\n",
      "Status: Creating\n",
      "Status: Creating\n",
      "Status: Creating\n",
      "Status: Creating\n",
      "Status: Creating\n",
      "Status: Creating\n",
      "Status: InService\n",
      "Arn: arn:aws:sagemaker:us-east-2:947903643832:endpoint/demo-xgboostendpoint-2019-03-28-16-39-48\n",
      "Status: InService\n",
      "CPU times: user 132 ms, sys: 0 ns, total: 132 ms\n",
      "Wall time: 8min 1s\n"
     ]
    }
   ],
   "source": [
    "%%time\n",
    "import time\n",
    "\n",
    "endpoint_name = 'DEMO-XGBoostEndpoint-' + strftime(\"%Y-%m-%d-%H-%M-%S\", gmtime())\n",
    "print(endpoint_name)\n",
    "create_endpoint_response = sm_client.create_endpoint(\n",
    "    EndpointName=endpoint_name,\n",
    "    EndpointConfigName=endpoint_config_name)\n",
    "print(create_endpoint_response['EndpointArn'])\n",
    "\n",
    "resp = sm_client.describe_endpoint(EndpointName=endpoint_name)\n",
    "status = resp['EndpointStatus']\n",
    "print(\"Status: \" + status)\n",
    "\n",
    "while status=='Creating':\n",
    "    time.sleep(60)\n",
    "    resp = sm_client.describe_endpoint(EndpointName=endpoint_name)\n",
    "    status = resp['EndpointStatus']\n",
    "    print(\"Status: \" + status)\n",
    "\n",
    "print(\"Arn: \" + resp['EndpointArn'])\n",
    "print(\"Status: \" + status)"
   ]
  },
  {
   "cell_type": "code",
   "execution_count": 76,
   "metadata": {},
   "outputs": [
    {
     "data": {
      "text/plain": [
       "'DEMO-XGBoostEndpoint-2019-03-28-16-39-48'"
      ]
     },
     "execution_count": 76,
     "metadata": {},
     "output_type": "execute_result"
    }
   ],
   "source": [
    "endpoint_name"
   ]
  },
  {
   "cell_type": "markdown",
   "metadata": {},
   "source": [
    "# Perform Prediction"
   ]
  },
  {
   "cell_type": "code",
   "execution_count": 131,
   "metadata": {
    "colab": {},
    "colab_type": "code",
    "id": "EnGN85GeahEJ"
   },
   "outputs": [],
   "source": [
    "record = \"Objective To explore the role and possible mechanism of grainyhead-like protein 2 (GRHL2) down-regulation in acquired drug resistance to tumor-targeted therapeutic drug gefitinib, an epidermal growth factor receptor tyrosine kinase inhibitor (EGFR-TKI). Methods Human colon cancer cell line DiFi and human lung adenocarcinoma cell line HCC4006 were cultured in a stepwise increasing concentration of gefitinib to obtain gefitinib-resistant cell lines. The differentially expressed genes between gefitinib-resistant cell lines and parent cells were selected by RNA sequencing and verified by real-time fluorescent quantitative PCR (qRT-PCR). The pcDNA3.1-GRHL2 plasmid was transfected into the gefitinib-resistant cell lines to overexpress GRHL2, and the sensitivity of the cells to gefitinib was detected by CCK-8 method. The expression of epithelial marker (E-cadherin) and mesenchymal marker (Vimentin) in the gefitinib-resistant cells was detected by Western blotting. The relationship between GRHL2 expression and expression of E-cadherin and Vimentin in 60 human tumor cell lines was analyzed by CellMiner™ database. Results We successfully obtained two gefitinib-resistant cell lines. RNA sequencing and qRT-PCR confirmed that the expression of GRHL2 in the gefitinib-resistant cells was decreased, while the sensitivity of the cells to gefitinib was restored after overexpressing GRHL2 in the gefitinib-resistant cells. Western blotting analysis showed that the E-cadherin expression was decreased and the Vimentin expression was increased in the gefitinib-resistant cell line. CellMiner™ database analysis showed that the expression of GRHL2 was highly consistent with the ratio of E-cadherin to Vimentin. Conclusion Down-regulation of GRHL2 mediates drug resistance of tumor cell to gefitinib by inducing epithelial-mesenchymal transition\""
   ]
  },
  {
   "cell_type": "code",
   "execution_count": 188,
   "metadata": {
    "colab": {
     "base_uri": "https://localhost:8080/",
     "height": 54
    },
    "colab_type": "code",
    "executionInfo": {
     "elapsed": 52980,
     "status": "ok",
     "timestamp": 1553522609216,
     "user": {
      "displayName": "User User",
      "photoUrl": "",
      "userId": "11623809594633842467"
     },
     "user_tz": -330
    },
    "id": "hmrIzpltawJx",
    "outputId": "4bc1d010-aed8-4b91-b3d8-139bde4258f1"
   },
   "outputs": [],
   "source": [
    "clean_rec = clean_data(record)\n",
    "clean_rec = [clean_rec]\n",
    "# print(clean_rec)"
   ]
  },
  {
   "cell_type": "code",
   "execution_count": 81,
   "metadata": {
    "colab": {
     "base_uri": "https://localhost:8080/",
     "height": 51
    },
    "colab_type": "code",
    "executionInfo": {
     "elapsed": 52950,
     "status": "ok",
     "timestamp": 1553522609221,
     "user": {
      "displayName": "User User",
      "photoUrl": "",
      "userId": "11623809594633842467"
     },
     "user_tz": -330
    },
    "id": "06u_16APavcJ",
    "outputId": "a46b67fb-6eba-48fa-d1c1-cb1dfd1f88b1"
   },
   "outputs": [
    {
     "data": {
      "text/plain": [
       "<1x12861 sparse matrix of type '<class 'numpy.float64'>'\n",
       "\twith 99 stored elements in Compressed Sparse Row format>"
      ]
     },
     "execution_count": 81,
     "metadata": {},
     "output_type": "execute_result"
    }
   ],
   "source": [
    "vect = vectorizer.transform(clean_rec)\n",
    "vect"
   ]
  },
  {
   "cell_type": "code",
   "execution_count": 145,
   "metadata": {},
   "outputs": [
    {
     "data": {
      "text/html": [
       "<div>\n",
       "<style scoped>\n",
       "    .dataframe tbody tr th:only-of-type {\n",
       "        vertical-align: middle;\n",
       "    }\n",
       "\n",
       "    .dataframe tbody tr th {\n",
       "        vertical-align: top;\n",
       "    }\n",
       "\n",
       "    .dataframe thead th {\n",
       "        text-align: right;\n",
       "    }\n",
       "</style>\n",
       "<table border=\"1\" class=\"dataframe\">\n",
       "  <thead>\n",
       "    <tr style=\"text-align: right;\">\n",
       "      <th></th>\n",
       "      <th>0</th>\n",
       "      <th>1</th>\n",
       "      <th>2</th>\n",
       "      <th>3</th>\n",
       "      <th>4</th>\n",
       "      <th>5</th>\n",
       "      <th>6</th>\n",
       "      <th>7</th>\n",
       "      <th>8</th>\n",
       "      <th>9</th>\n",
       "      <th>...</th>\n",
       "      <th>12851</th>\n",
       "      <th>12852</th>\n",
       "      <th>12853</th>\n",
       "      <th>12854</th>\n",
       "      <th>12855</th>\n",
       "      <th>12856</th>\n",
       "      <th>12857</th>\n",
       "      <th>12858</th>\n",
       "      <th>12859</th>\n",
       "      <th>12860</th>\n",
       "    </tr>\n",
       "  </thead>\n",
       "  <tbody>\n",
       "    <tr>\n",
       "      <th>0</th>\n",
       "      <td>0.0</td>\n",
       "      <td>0.0</td>\n",
       "      <td>0.0</td>\n",
       "      <td>0.0</td>\n",
       "      <td>0.0</td>\n",
       "      <td>0.0</td>\n",
       "      <td>0.0</td>\n",
       "      <td>0.0</td>\n",
       "      <td>0.0</td>\n",
       "      <td>0.0</td>\n",
       "      <td>...</td>\n",
       "      <td>0.0</td>\n",
       "      <td>0.0</td>\n",
       "      <td>0.0</td>\n",
       "      <td>0.0</td>\n",
       "      <td>0.0</td>\n",
       "      <td>0.0</td>\n",
       "      <td>0.0</td>\n",
       "      <td>0.0</td>\n",
       "      <td>0.0</td>\n",
       "      <td>0.0</td>\n",
       "    </tr>\n",
       "  </tbody>\n",
       "</table>\n",
       "<p>1 rows × 12861 columns</p>\n",
       "</div>"
      ],
      "text/plain": [
       "   0      1      2      3      4      5      6      7      8      9      \\\n",
       "0    0.0    0.0    0.0    0.0    0.0    0.0    0.0    0.0    0.0    0.0   \n",
       "\n",
       "   ...    12851  12852  12853  12854  12855  12856  12857  12858  12859  12860  \n",
       "0  ...      0.0    0.0    0.0    0.0    0.0    0.0    0.0    0.0    0.0    0.0  \n",
       "\n",
       "[1 rows x 12861 columns]"
      ]
     },
     "execution_count": 145,
     "metadata": {},
     "output_type": "execute_result"
    }
   ],
   "source": [
    "df = pd.DataFrame(vect.todense())\n",
    "# df.columns = vectorizer.get_feature_names()\n",
    "df"
   ]
  },
  {
   "cell_type": "code",
   "execution_count": 192,
   "metadata": {},
   "outputs": [
    {
     "data": {
      "text/html": [
       "<div>\n",
       "<style scoped>\n",
       "    .dataframe tbody tr th:only-of-type {\n",
       "        vertical-align: middle;\n",
       "    }\n",
       "\n",
       "    .dataframe tbody tr th {\n",
       "        vertical-align: top;\n",
       "    }\n",
       "\n",
       "    .dataframe thead th {\n",
       "        text-align: right;\n",
       "    }\n",
       "</style>\n",
       "<table border=\"1\" class=\"dataframe\">\n",
       "  <thead>\n",
       "    <tr style=\"text-align: right;\">\n",
       "      <th></th>\n",
       "      <th>0</th>\n",
       "      <th>1</th>\n",
       "      <th>2</th>\n",
       "      <th>3</th>\n",
       "      <th>4</th>\n",
       "      <th>5</th>\n",
       "      <th>6</th>\n",
       "      <th>7</th>\n",
       "      <th>8</th>\n",
       "      <th>9</th>\n",
       "      <th>...</th>\n",
       "      <th>12851</th>\n",
       "      <th>12852</th>\n",
       "      <th>12853</th>\n",
       "      <th>12854</th>\n",
       "      <th>12855</th>\n",
       "      <th>12856</th>\n",
       "      <th>12857</th>\n",
       "      <th>12858</th>\n",
       "      <th>12859</th>\n",
       "      <th>12860</th>\n",
       "    </tr>\n",
       "  </thead>\n",
       "  <tbody>\n",
       "    <tr>\n",
       "      <th>0</th>\n",
       "      <td>0.0</td>\n",
       "      <td>0.0</td>\n",
       "      <td>0.0</td>\n",
       "      <td>0.0</td>\n",
       "      <td>0.0</td>\n",
       "      <td>0.0</td>\n",
       "      <td>0.0</td>\n",
       "      <td>0.0</td>\n",
       "      <td>0.0</td>\n",
       "      <td>0.0</td>\n",
       "      <td>...</td>\n",
       "      <td>0.0</td>\n",
       "      <td>0.0</td>\n",
       "      <td>0.0</td>\n",
       "      <td>0.0</td>\n",
       "      <td>0.0</td>\n",
       "      <td>0.0</td>\n",
       "      <td>0.0</td>\n",
       "      <td>0.0</td>\n",
       "      <td>0.0</td>\n",
       "      <td>0.0</td>\n",
       "    </tr>\n",
       "  </tbody>\n",
       "</table>\n",
       "<p>1 rows × 12861 columns</p>\n",
       "</div>"
      ],
      "text/plain": [
       "     0    1    2    3    4    5    6    7    8    9  ...    12851  12852  \\\n",
       "0  0.0  0.0  0.0  0.0  0.0  0.0  0.0  0.0  0.0  0.0  ...      0.0    0.0   \n",
       "\n",
       "   12853  12854  12855  12856  12857  12858  12859  12860  \n",
       "0    0.0    0.0    0.0    0.0    0.0    0.0    0.0    0.0  \n",
       "\n",
       "[1 rows x 12861 columns]"
      ]
     },
     "execution_count": 192,
     "metadata": {},
     "output_type": "execute_result"
    }
   ],
   "source": [
    "test_df = pd.read_csv('test.csv')\n",
    "test_df.head()"
   ]
  },
  {
   "cell_type": "code",
   "execution_count": 146,
   "metadata": {},
   "outputs": [],
   "source": [
    "df.to_csv('test.csv', index=False)"
   ]
  },
  {
   "cell_type": "code",
   "execution_count": 186,
   "metadata": {
    "colab": {
     "base_uri": "https://localhost:8080/",
     "height": 51
    },
    "colab_type": "code",
    "executionInfo": {
     "elapsed": 52941,
     "status": "ok",
     "timestamp": 1553522609229,
     "user": {
      "displayName": "User User",
      "photoUrl": "",
      "userId": "11623809594633842467"
     },
     "user_tz": -330
    },
    "id": "HSsdsiVka2Fc",
    "outputId": "2842294e-7182-4709-b2c9-e537aae767fb"
   },
   "outputs": [
    {
     "name": "stdout",
     "output_type": "stream",
     "text": [
      "[[0.634191   0.00397333 0.35686442 0.00497124]]\n"
     ]
    },
    {
     "name": "stderr",
     "output_type": "stream",
     "text": [
      "/home/ec2-user/anaconda3/envs/python3/lib/python3.6/site-packages/sklearn/preprocessing/label.py:151: DeprecationWarning: The truth value of an empty array is ambiguous. Returning False, but in future this will result in an error. Use `array.size > 0` to check that an array is not empty.\n",
      "  if diff:\n"
     ]
    },
    {
     "data": {
      "text/plain": [
       "array(['Invalid'], dtype=object)"
      ]
     },
     "execution_count": 186,
     "metadata": {},
     "output_type": "execute_result"
    }
   ],
   "source": [
    "pred = model.predict(vect)\n",
    "print(pred)\n",
    "le.inverse_transform(model.predict_classes(vect))"
   ]
  },
  {
   "cell_type": "code",
   "execution_count": 189,
   "metadata": {},
   "outputs": [
    {
     "name": "stdout",
     "output_type": "stream",
     "text": [
      "CPU times: user 483 µs, sys: 84 µs, total: 567 µs\n",
      "Wall time: 403 µs\n"
     ]
    }
   ],
   "source": [
    "%%time\n",
    "import json\n",
    "\n",
    "\n",
    "file_name = 'test.csv' #customize to your test file, will be 'mnist.single.test' if use data above\n",
    "\n",
    "with open(file_name, 'r') as f:\n",
    "    payload = f.read().strip()"
   ]
  },
  {
   "cell_type": "code",
   "execution_count": 181,
   "metadata": {},
   "outputs": [],
   "source": [
    "arr = payload.split('\\n')\n",
    "test_data = arr[1]\n",
    "# print((arr[0]))"
   ]
  },
  {
   "cell_type": "code",
   "execution_count": null,
   "metadata": {},
   "outputs": [],
   "source": [
    "runtime_client = boto3.client('runtime.sagemaker')"
   ]
  },
  {
   "cell_type": "code",
   "execution_count": 194,
   "metadata": {},
   "outputs": [
    {
     "data": {
      "text/plain": [
       "str"
      ]
     },
     "execution_count": 194,
     "metadata": {},
     "output_type": "execute_result"
    }
   ],
   "source": [
    "type(test_data)"
   ]
  },
  {
   "cell_type": "code",
   "execution_count": 193,
   "metadata": {},
   "outputs": [
    {
     "name": "stdout",
     "output_type": "stream",
     "text": [
      "Predicted Class Probabilities: [0.39683854579925537, 0.06537406891584396, 0.1624053418636322, 0.37538206577301025].\n"
     ]
    }
   ],
   "source": [
    "response = runtime_client.invoke_endpoint(EndpointName=endpoint_name,\n",
    "                                          ContentType='text/csv',\n",
    "                                   Body=test_data)\n",
    "result = response['Body'].read().decode('ascii')\n",
    "print('Predicted Class Probabilities: {}.'.format(result))"
   ]
  },
  {
   "cell_type": "code",
   "execution_count": 191,
   "metadata": {},
   "outputs": [
    {
     "data": {
      "text/plain": [
       "'DEMO-XGBoostEndpoint-2019-03-28-16-39-48'"
      ]
     },
     "execution_count": 191,
     "metadata": {},
     "output_type": "execute_result"
    }
   ],
   "source": [
    "endpoint_name"
   ]
  },
  {
   "cell_type": "code",
   "execution_count": 190,
   "metadata": {},
   "outputs": [
    {
     "data": {
      "text/plain": [
       "{'ResponseMetadata': {'RequestId': '927bc33f-dbb4-44c5-99a3-79b76d3eec85',\n",
       "  'HTTPStatusCode': 200,\n",
       "  'HTTPHeaders': {'x-amzn-requestid': '927bc33f-dbb4-44c5-99a3-79b76d3eec85',\n",
       "   'x-amzn-invoked-production-variant': 'AllTraffic',\n",
       "   'date': 'Tue, 2 Apr 2019 10:41:56 GMT',\n",
       "   'content-type': 'text/csv; charset=utf-8',\n",
       "   'content-length': '83'},\n",
       "  'RetryAttempts': 0},\n",
       " 'ContentType': 'text/csv; charset=utf-8',\n",
       " 'InvokedProductionVariant': 'AllTraffic',\n",
       " 'Body': <botocore.response.StreamingBody at 0x7f33901fe208>}"
      ]
     },
     "execution_count": 190,
     "metadata": {},
     "output_type": "execute_result"
    }
   ],
   "source": [
    "response"
   ]
  },
  {
   "cell_type": "code",
   "execution_count": 183,
   "metadata": {},
   "outputs": [
    {
     "name": "stdout",
     "output_type": "stream",
     "text": [
      "Predicted Class Label: 0.\n"
     ]
    }
   ],
   "source": [
    "floatArr = np.array(json.loads(result))\n",
    "predictedLabel = np.argmax(floatArr)\n",
    "print('Predicted Class Label: {}.'.format(predictedLabel))\n",
    "# print('Actual Class Label: {}.'.format(point_y))"
   ]
  },
  {
   "cell_type": "code",
   "execution_count": 184,
   "metadata": {},
   "outputs": [
    {
     "name": "stderr",
     "output_type": "stream",
     "text": [
      "/home/ec2-user/anaconda3/envs/python3/lib/python3.6/site-packages/sklearn/preprocessing/label.py:151: DeprecationWarning: The truth value of an empty array is ambiguous. Returning False, but in future this will result in an error. Use `array.size > 0` to check that an array is not empty.\n",
      "  if diff:\n"
     ]
    },
    {
     "data": {
      "text/plain": [
       "'Invalid'"
      ]
     },
     "execution_count": 184,
     "metadata": {},
     "output_type": "execute_result"
    }
   ],
   "source": [
    "decodeLabel = le.inverse_transform(predictedLabel)\n",
    "decodeLabel"
   ]
  },
  {
   "cell_type": "markdown",
   "metadata": {},
   "source": [
    "runtime_client.generate_presigned_url(ClientMethod='runtime.sagemaker',\n",
    "    Params={\n",
    "        'Bucket': bucket,\n",
    "        'Key': key\n",
    "    })"
   ]
  },
  {
   "cell_type": "markdown",
   "metadata": {
    "colab": {
     "base_uri": "https://localhost:8080/",
     "height": 34
    },
    "colab_type": "code",
    "executionInfo": {
     "elapsed": 13651,
     "status": "ok",
     "timestamp": 1553522569467,
     "user": {
      "displayName": "User User",
      "photoUrl": "",
      "userId": "11623809594633842467"
     },
     "user_tz": -330
    },
    "id": "0qhhK5t5mF_0",
    "outputId": "ffcef494-0906-4291-feb1-ae31732a04bf"
   },
   "source": [
    "clf1.score(features_test, labels_test)"
   ]
  },
  {
   "cell_type": "markdown",
   "metadata": {
    "colab_type": "text",
    "id": "Vak4BSch6TOA"
   },
   "source": [
    "# Training Deep Learning Model"
   ]
  },
  {
   "cell_type": "code",
   "execution_count": 26,
   "metadata": {
    "colab": {
     "base_uri": "https://localhost:8080/",
     "height": 34
    },
    "colab_type": "code",
    "executionInfo": {
     "elapsed": 14728,
     "status": "ok",
     "timestamp": 1553522570566,
     "user": {
      "displayName": "User User",
      "photoUrl": "",
      "userId": "11623809594633842467"
     },
     "user_tz": -330
    },
    "id": "cVpPme1apdO1",
    "outputId": "496ef7c7-eca9-4578-94f5-d5b14f6d5920"
   },
   "outputs": [
    {
     "name": "stderr",
     "output_type": "stream",
     "text": [
      "Using TensorFlow backend.\n"
     ]
    }
   ],
   "source": [
    "import keras\n",
    "from keras.models import Sequential\n",
    "from keras.layers import Dense, Flatten, Conv2D, Dropout\n",
    "from keras.layers.normalization import BatchNormalization\n",
    "from keras.callbacks import TensorBoard"
   ]
  },
  {
   "cell_type": "code",
   "execution_count": 27,
   "metadata": {
    "colab": {},
    "colab_type": "code",
    "id": "WUv36uDv6JI6"
   },
   "outputs": [],
   "source": [
    "from keras.utils import to_categorical\n",
    "y_binary = to_categorical(labels, 4)"
   ]
  },
  {
   "cell_type": "code",
   "execution_count": 28,
   "metadata": {
    "colab": {
     "base_uri": "https://localhost:8080/",
     "height": 153
    },
    "colab_type": "code",
    "executionInfo": {
     "elapsed": 14698,
     "status": "ok",
     "timestamp": 1553522570573,
     "user": {
      "displayName": "User User",
      "photoUrl": "",
      "userId": "11623809594633842467"
     },
     "user_tz": -330
    },
    "id": "oHZ2PEroA6fK",
    "outputId": "9d887b35-1370-42fc-8419-8710c9841f3f"
   },
   "outputs": [
    {
     "name": "stdout",
     "output_type": "stream",
     "text": [
      "(836, 4)\n"
     ]
    },
    {
     "data": {
      "text/plain": [
       "array([[1., 0., 0., 0.],\n",
       "       [1., 0., 0., 0.],\n",
       "       [1., 0., 0., 0.],\n",
       "       ...,\n",
       "       [1., 0., 0., 0.],\n",
       "       [0., 0., 1., 0.],\n",
       "       [1., 0., 0., 0.]], dtype=float32)"
      ]
     },
     "execution_count": 28,
     "metadata": {},
     "output_type": "execute_result"
    }
   ],
   "source": [
    "print(y_binary.shape)\n",
    "y_binary"
   ]
  },
  {
   "cell_type": "code",
   "execution_count": 29,
   "metadata": {
    "colab": {
     "base_uri": "https://localhost:8080/",
     "height": 34
    },
    "colab_type": "code",
    "executionInfo": {
     "elapsed": 14687,
     "status": "ok",
     "timestamp": 1553522570581,
     "user": {
      "displayName": "User User",
      "photoUrl": "",
      "userId": "11623809594633842467"
     },
     "user_tz": -330
    },
    "id": "_dxYlkJNFArC",
    "outputId": "588810df-b142-471e-9a2b-e392234e6f86"
   },
   "outputs": [
    {
     "data": {
      "text/plain": [
       "(836, 12861)"
      ]
     },
     "execution_count": 29,
     "metadata": {},
     "output_type": "execute_result"
    }
   ],
   "source": [
    "shape = features.shape\n",
    "shape"
   ]
  },
  {
   "cell_type": "code",
   "execution_count": 30,
   "metadata": {
    "colab": {},
    "colab_type": "code",
    "id": "CiDHDPxhpdoY"
   },
   "outputs": [],
   "source": [
    "model = Sequential()\n",
    "model.add(Dense(256, activation='relu'))\n",
    "# model.add(BatchNormalization())\n",
    "# model.add(Dropout(0.5))\n",
    "# model.add(Dense(32, activation='sigmoid'))\n",
    "# model.add(Dense(64, activation='tanh'))\n",
    "# model.add(Dense(128, activation='relu'))\n",
    "# model.add(BatchNormalization())\n",
    "# model.add(Dropout(0.5))\n",
    "model.add(Dense(4, activation='softmax'))\n",
    "\n",
    "# model.add(Dense(64, activation='relu',\n",
    "#                 input_shape = shape))\n",
    "# model.add(Dense(20, activation='relu'))\n",
    "# model.add(Flatten())\n",
    "# model.add(Dense(128, activation='relu'))\n",
    "# model.add(Dense(4, activation='softmax'))"
   ]
  },
  {
   "cell_type": "code",
   "execution_count": 31,
   "metadata": {
    "colab": {
     "base_uri": "https://localhost:8080/",
     "height": 85
    },
    "colab_type": "code",
    "executionInfo": {
     "elapsed": 14656,
     "status": "ok",
     "timestamp": 1553522570594,
     "user": {
      "displayName": "User User",
      "photoUrl": "",
      "userId": "11623809594633842467"
     },
     "user_tz": -330
    },
    "id": "rZLeJg_ED9aa",
    "outputId": "ea743f78-109e-45c1-f3e9-8aca28b106bd"
   },
   "outputs": [
    {
     "data": {
      "text/plain": [
       "[<keras.layers.core.Dense at 0x7f33d0c63198>,\n",
       " <keras.layers.core.Dense at 0x7f33d0c63358>]"
      ]
     },
     "execution_count": 31,
     "metadata": {},
     "output_type": "execute_result"
    }
   ],
   "source": [
    "model.layers"
   ]
  },
  {
   "cell_type": "code",
   "execution_count": 32,
   "metadata": {
    "colab": {
     "base_uri": "https://localhost:8080/",
     "height": 88
    },
    "colab_type": "code",
    "executionInfo": {
     "elapsed": 14636,
     "status": "ok",
     "timestamp": 1553522570597,
     "user": {
      "displayName": "User User",
      "photoUrl": "",
      "userId": "11623809594633842467"
     },
     "user_tz": -330
    },
    "id": "bf48VhdwpeJB",
    "outputId": "42e608ae-52ff-4e92-b67a-d907c2e916e1"
   },
   "outputs": [
    {
     "name": "stdout",
     "output_type": "stream",
     "text": [
      "WARNING:tensorflow:From /home/ec2-user/anaconda3/envs/python3/lib/python3.6/site-packages/tensorflow/python/framework/op_def_library.py:263: colocate_with (from tensorflow.python.framework.ops) is deprecated and will be removed in a future version.\n",
      "Instructions for updating:\n",
      "Colocations handled automatically by placer.\n"
     ]
    }
   ],
   "source": [
    "model.compile(optimizer='adam', loss='categorical_crossentropy', \n",
    "             metrics=['accuracy'])"
   ]
  },
  {
   "cell_type": "code",
   "execution_count": 33,
   "metadata": {
    "colab": {
     "base_uri": "https://localhost:8080/",
     "height": 1822
    },
    "colab_type": "code",
    "executionInfo": {
     "elapsed": 50664,
     "status": "ok",
     "timestamp": 1553522606651,
     "user": {
      "displayName": "User User",
      "photoUrl": "",
      "userId": "11623809594633842467"
     },
     "user_tz": -330
    },
    "id": "a3G6PGydrAXK",
    "outputId": "f2984a19-5851-4bda-ecd1-27be938fe73a"
   },
   "outputs": [
    {
     "name": "stdout",
     "output_type": "stream",
     "text": [
      "WARNING:tensorflow:From /home/ec2-user/anaconda3/envs/python3/lib/python3.6/site-packages/tensorflow/python/ops/math_ops.py:3066: to_int32 (from tensorflow.python.ops.math_ops) is deprecated and will be removed in a future version.\n",
      "Instructions for updating:\n",
      "Use tf.cast instead.\n",
      "Train on 585 samples, validate on 251 samples\n",
      "Epoch 1/50\n",
      "585/585 [==============================] - 1s 2ms/step - loss: 1.3122 - acc: 0.4974 - val_loss: 1.2123 - val_acc: 0.4821\n",
      "Epoch 2/50\n",
      "585/585 [==============================] - 1s 872us/step - loss: 1.0455 - acc: 0.6342 - val_loss: 1.0749 - val_acc: 0.4980\n",
      "Epoch 3/50\n",
      "585/585 [==============================] - 1s 886us/step - loss: 0.8121 - acc: 0.7538 - val_loss: 1.0100 - val_acc: 0.5219\n",
      "Epoch 4/50\n",
      "585/585 [==============================] - 1s 894us/step - loss: 0.6283 - acc: 0.8410 - val_loss: 0.9833 - val_acc: 0.5817\n",
      "Epoch 5/50\n",
      "585/585 [==============================] - 1s 907us/step - loss: 0.4705 - acc: 0.9043 - val_loss: 0.9692 - val_acc: 0.5697\n",
      "Epoch 6/50\n",
      "585/585 [==============================] - 1s 897us/step - loss: 0.3458 - acc: 0.9231 - val_loss: 0.9734 - val_acc: 0.5737\n",
      "Epoch 7/50\n",
      "585/585 [==============================] - 1s 911us/step - loss: 0.2473 - acc: 0.9556 - val_loss: 0.9901 - val_acc: 0.5857\n",
      "Epoch 8/50\n",
      "585/585 [==============================] - 1s 910us/step - loss: 0.1778 - acc: 0.9812 - val_loss: 0.9903 - val_acc: 0.5657\n",
      "Epoch 9/50\n",
      "585/585 [==============================] - 1s 870us/step - loss: 0.1285 - acc: 0.9915 - val_loss: 1.0042 - val_acc: 0.5777\n",
      "Epoch 10/50\n",
      "585/585 [==============================] - 1s 898us/step - loss: 0.0932 - acc: 0.9966 - val_loss: 1.0179 - val_acc: 0.5817\n",
      "Epoch 11/50\n",
      "585/585 [==============================] - 1s 891us/step - loss: 0.0692 - acc: 0.9966 - val_loss: 1.0283 - val_acc: 0.5857\n",
      "Epoch 12/50\n",
      "585/585 [==============================] - 0s 852us/step - loss: 0.0530 - acc: 0.9983 - val_loss: 1.0368 - val_acc: 0.5817\n",
      "Epoch 13/50\n",
      "585/585 [==============================] - 1s 910us/step - loss: 0.0407 - acc: 0.9983 - val_loss: 1.0509 - val_acc: 0.5777\n",
      "Epoch 14/50\n",
      "585/585 [==============================] - 1s 873us/step - loss: 0.0322 - acc: 1.0000 - val_loss: 1.0597 - val_acc: 0.5777\n",
      "Epoch 15/50\n",
      "585/585 [==============================] - 1s 901us/step - loss: 0.0259 - acc: 1.0000 - val_loss: 1.0708 - val_acc: 0.5777\n",
      "Epoch 16/50\n",
      "585/585 [==============================] - 1s 882us/step - loss: 0.0212 - acc: 1.0000 - val_loss: 1.0787 - val_acc: 0.5777\n",
      "Epoch 17/50\n",
      "585/585 [==============================] - 1s 879us/step - loss: 0.0178 - acc: 1.0000 - val_loss: 1.0876 - val_acc: 0.5777\n",
      "Epoch 18/50\n",
      "585/585 [==============================] - 1s 920us/step - loss: 0.0152 - acc: 1.0000 - val_loss: 1.0979 - val_acc: 0.5777\n",
      "Epoch 19/50\n",
      "585/585 [==============================] - 1s 899us/step - loss: 0.0132 - acc: 1.0000 - val_loss: 1.1071 - val_acc: 0.5777\n",
      "Epoch 20/50\n",
      "585/585 [==============================] - 1s 915us/step - loss: 0.0115 - acc: 1.0000 - val_loss: 1.1154 - val_acc: 0.5777\n",
      "Epoch 21/50\n",
      "585/585 [==============================] - 1s 911us/step - loss: 0.0102 - acc: 1.0000 - val_loss: 1.1238 - val_acc: 0.5777\n",
      "Epoch 22/50\n",
      "585/585 [==============================] - 1s 890us/step - loss: 0.0091 - acc: 1.0000 - val_loss: 1.1326 - val_acc: 0.5777\n",
      "Epoch 23/50\n",
      "585/585 [==============================] - 1s 896us/step - loss: 0.0081 - acc: 1.0000 - val_loss: 1.1414 - val_acc: 0.5777\n",
      "Epoch 24/50\n",
      "585/585 [==============================] - 1s 925us/step - loss: 0.0073 - acc: 1.0000 - val_loss: 1.1467 - val_acc: 0.5777\n",
      "Epoch 25/50\n",
      "585/585 [==============================] - 0s 840us/step - loss: 0.0067 - acc: 1.0000 - val_loss: 1.1534 - val_acc: 0.5777\n",
      "Epoch 26/50\n",
      "585/585 [==============================] - 1s 895us/step - loss: 0.0061 - acc: 1.0000 - val_loss: 1.1606 - val_acc: 0.5777\n",
      "Epoch 27/50\n",
      "585/585 [==============================] - 1s 910us/step - loss: 0.0056 - acc: 1.0000 - val_loss: 1.1653 - val_acc: 0.5777\n",
      "Epoch 28/50\n",
      "585/585 [==============================] - 1s 868us/step - loss: 0.0051 - acc: 1.0000 - val_loss: 1.1724 - val_acc: 0.5777\n",
      "Epoch 29/50\n",
      "585/585 [==============================] - 1s 884us/step - loss: 0.0047 - acc: 1.0000 - val_loss: 1.1787 - val_acc: 0.5777\n",
      "Epoch 30/50\n",
      "585/585 [==============================] - 1s 886us/step - loss: 0.0044 - acc: 1.0000 - val_loss: 1.1849 - val_acc: 0.5777\n",
      "Epoch 31/50\n",
      "585/585 [==============================] - 1s 886us/step - loss: 0.0041 - acc: 1.0000 - val_loss: 1.1895 - val_acc: 0.5777\n",
      "Epoch 32/50\n",
      "585/585 [==============================] - 0s 854us/step - loss: 0.0038 - acc: 1.0000 - val_loss: 1.1956 - val_acc: 0.5777\n",
      "Epoch 33/50\n",
      "585/585 [==============================] - 1s 885us/step - loss: 0.0036 - acc: 1.0000 - val_loss: 1.2022 - val_acc: 0.5777\n",
      "Epoch 34/50\n",
      "585/585 [==============================] - 1s 904us/step - loss: 0.0033 - acc: 1.0000 - val_loss: 1.2061 - val_acc: 0.5777\n",
      "Epoch 35/50\n",
      "585/585 [==============================] - 1s 932us/step - loss: 0.0031 - acc: 1.0000 - val_loss: 1.2110 - val_acc: 0.5777\n",
      "Epoch 36/50\n",
      "585/585 [==============================] - 1s 917us/step - loss: 0.0030 - acc: 1.0000 - val_loss: 1.2158 - val_acc: 0.5777\n",
      "Epoch 37/50\n",
      "585/585 [==============================] - 1s 863us/step - loss: 0.0028 - acc: 1.0000 - val_loss: 1.2199 - val_acc: 0.5777\n",
      "Epoch 38/50\n",
      "585/585 [==============================] - 1s 903us/step - loss: 0.0026 - acc: 1.0000 - val_loss: 1.2250 - val_acc: 0.5777\n",
      "Epoch 39/50\n",
      "585/585 [==============================] - 1s 877us/step - loss: 0.0025 - acc: 1.0000 - val_loss: 1.2290 - val_acc: 0.5777\n",
      "Epoch 40/50\n",
      "585/585 [==============================] - 1s 907us/step - loss: 0.0024 - acc: 1.0000 - val_loss: 1.2333 - val_acc: 0.5737\n",
      "Epoch 41/50\n",
      "585/585 [==============================] - 1s 880us/step - loss: 0.0022 - acc: 1.0000 - val_loss: 1.2386 - val_acc: 0.5737\n",
      "Epoch 42/50\n",
      "585/585 [==============================] - 1s 866us/step - loss: 0.0021 - acc: 1.0000 - val_loss: 1.2433 - val_acc: 0.5737\n",
      "Epoch 43/50\n",
      "585/585 [==============================] - 0s 854us/step - loss: 0.0020 - acc: 1.0000 - val_loss: 1.2473 - val_acc: 0.5737\n",
      "Epoch 44/50\n",
      "585/585 [==============================] - 1s 898us/step - loss: 0.0019 - acc: 1.0000 - val_loss: 1.2518 - val_acc: 0.5737\n",
      "Epoch 45/50\n",
      "585/585 [==============================] - 1s 899us/step - loss: 0.0018 - acc: 1.0000 - val_loss: 1.2558 - val_acc: 0.5737\n",
      "Epoch 46/50\n",
      "585/585 [==============================] - 1s 919us/step - loss: 0.0018 - acc: 1.0000 - val_loss: 1.2586 - val_acc: 0.5737\n",
      "Epoch 47/50\n",
      "585/585 [==============================] - 1s 890us/step - loss: 0.0017 - acc: 1.0000 - val_loss: 1.2625 - val_acc: 0.5737\n",
      "Epoch 48/50\n",
      "585/585 [==============================] - 1s 887us/step - loss: 0.0016 - acc: 1.0000 - val_loss: 1.2662 - val_acc: 0.5737\n",
      "Epoch 49/50\n",
      "585/585 [==============================] - 1s 881us/step - loss: 0.0015 - acc: 1.0000 - val_loss: 1.2699 - val_acc: 0.5737\n",
      "Epoch 50/50\n",
      "585/585 [==============================] - 1s 886us/step - loss: 0.0015 - acc: 1.0000 - val_loss: 1.2736 - val_acc: 0.5737\n"
     ]
    },
    {
     "data": {
      "text/plain": [
       "<keras.callbacks.History at 0x7f33d0c638d0>"
      ]
     },
     "execution_count": 33,
     "metadata": {},
     "output_type": "execute_result"
    }
   ],
   "source": [
    "model.fit(features.todense(), y_binary, batch_size=64, epochs=50, verbose=1, validation_split=0.3)"
   ]
  },
  {
   "cell_type": "code",
   "execution_count": 34,
   "metadata": {
    "colab": {},
    "colab_type": "code",
    "id": "qUwyr5qYIYo1"
   },
   "outputs": [],
   "source": [
    "tensorboard = TensorBoard('./sample_data/modelLogs')"
   ]
  },
  {
   "cell_type": "code",
   "execution_count": 35,
   "metadata": {
    "colab": {},
    "colab_type": "code",
    "id": "hF0oWjgcGX7p"
   },
   "outputs": [],
   "source": [
    "# features_train = np.reshape(features_train.toarray(), (features_train[0], 1, features_train[1]))"
   ]
  },
  {
   "cell_type": "code",
   "execution_count": 36,
   "metadata": {
    "colab": {
     "base_uri": "https://localhost:8080/",
     "height": 34
    },
    "colab_type": "code",
    "executionInfo": {
     "elapsed": 50640,
     "status": "ok",
     "timestamp": 1553522606686,
     "user": {
      "displayName": "User User",
      "photoUrl": "",
      "userId": "11623809594633842467"
     },
     "user_tz": -330
    },
    "id": "q0IeL0OU0TpY",
    "outputId": "9712957c-5fdf-44a7-80dd-451d5a3a6267"
   },
   "outputs": [
    {
     "data": {
      "text/plain": [
       "(836, 12861)"
      ]
     },
     "execution_count": 36,
     "metadata": {},
     "output_type": "execute_result"
    }
   ],
   "source": [
    "features.shape"
   ]
  },
  {
   "cell_type": "code",
   "execution_count": 37,
   "metadata": {
    "colab": {
     "base_uri": "https://localhost:8080/",
     "height": 34
    },
    "colab_type": "code",
    "executionInfo": {
     "elapsed": 51549,
     "status": "ok",
     "timestamp": 1553522607619,
     "user": {
      "displayName": "User User",
      "photoUrl": "",
      "userId": "11623809594633842467"
     },
     "user_tz": -330
    },
    "id": "eB3bCCf6Z7Da",
    "outputId": "9a1a2160-e04f-4756-920f-3ce74179061d"
   },
   "outputs": [
    {
     "data": {
      "text/plain": [
       "numpy.matrixlib.defmatrix.matrix"
      ]
     },
     "execution_count": 37,
     "metadata": {},
     "output_type": "execute_result"
    }
   ],
   "source": [
    "type(features.todense())"
   ]
  },
  {
   "cell_type": "code",
   "execution_count": 38,
   "metadata": {
    "colab": {
     "base_uri": "https://localhost:8080/",
     "height": 34
    },
    "colab_type": "code",
    "executionInfo": {
     "elapsed": 51531,
     "status": "ok",
     "timestamp": 1553522607625,
     "user": {
      "displayName": "User User",
      "photoUrl": "",
      "userId": "11623809594633842467"
     },
     "user_tz": -330
    },
    "id": "_aAa3e1kaDb4",
    "outputId": "cc35c97b-e240-4403-d5bd-5dc0cf05a8a2"
   },
   "outputs": [
    {
     "data": {
      "text/plain": [
       "matrix([[0., 0., 0., ..., 0., 0., 0.]])"
      ]
     },
     "execution_count": 38,
     "metadata": {},
     "output_type": "execute_result"
    }
   ],
   "source": [
    "features.todense()[1]"
   ]
  },
  {
   "cell_type": "code",
   "execution_count": 39,
   "metadata": {
    "colab": {
     "base_uri": "https://localhost:8080/",
     "height": 272
    },
    "colab_type": "code",
    "executionInfo": {
     "elapsed": 51513,
     "status": "ok",
     "timestamp": 1553522607629,
     "user": {
      "displayName": "User User",
      "photoUrl": "",
      "userId": "11623809594633842467"
     },
     "user_tz": -330
    },
    "id": "wFcaBq8l6TaT",
    "outputId": "392c0879-7b1b-4ba2-ced2-8344ea0f622a"
   },
   "outputs": [
    {
     "name": "stdout",
     "output_type": "stream",
     "text": [
      "_________________________________________________________________\n",
      "Layer (type)                 Output Shape              Param #   \n",
      "=================================================================\n",
      "dense_1 (Dense)              (None, 256)               3292672   \n",
      "_________________________________________________________________\n",
      "dense_2 (Dense)              (None, 4)                 1028      \n",
      "=================================================================\n",
      "Total params: 3,293,700\n",
      "Trainable params: 3,293,700\n",
      "Non-trainable params: 0\n",
      "_________________________________________________________________\n"
     ]
    }
   ],
   "source": [
    "model.summary()"
   ]
  },
  {
   "cell_type": "code",
   "execution_count": 40,
   "metadata": {
    "colab": {},
    "colab_type": "code",
    "id": "9Aze7_rZlyqg"
   },
   "outputs": [
    {
     "ename": "ImportError",
     "evalue": "Failed to import `pydot`. Please install `pydot`. For example with `pip install pydot`.",
     "output_type": "error",
     "traceback": [
      "\u001b[0;31m---------------------------------------------------------------------------\u001b[0m",
      "\u001b[0;31mImportError\u001b[0m                               Traceback (most recent call last)",
      "\u001b[0;32m<ipython-input-40-e360d2cb6bb1>\u001b[0m in \u001b[0;36m<module>\u001b[0;34m()\u001b[0m\n\u001b[1;32m      1\u001b[0m \u001b[0;32mfrom\u001b[0m \u001b[0mkeras\u001b[0m\u001b[0;34m.\u001b[0m\u001b[0mutils\u001b[0m \u001b[0;32mimport\u001b[0m \u001b[0mplot_model\u001b[0m\u001b[0;34m\u001b[0m\u001b[0m\n\u001b[0;32m----> 2\u001b[0;31m \u001b[0mplot_model\u001b[0m\u001b[0;34m(\u001b[0m\u001b[0mmodel\u001b[0m\u001b[0;34m,\u001b[0m \u001b[0mto_file\u001b[0m\u001b[0;34m=\u001b[0m\u001b[0;34m\"model.png\"\u001b[0m\u001b[0;34m,\u001b[0m \u001b[0mshow_layer_names\u001b[0m\u001b[0;34m=\u001b[0m\u001b[0;32mTrue\u001b[0m\u001b[0;34m,\u001b[0m \u001b[0mshow_shapes\u001b[0m\u001b[0;34m=\u001b[0m\u001b[0;32mTrue\u001b[0m\u001b[0;34m)\u001b[0m\u001b[0;34m\u001b[0m\u001b[0m\n\u001b[0m",
      "\u001b[0;32m~/anaconda3/envs/python3/lib/python3.6/site-packages/keras/utils/vis_utils.py\u001b[0m in \u001b[0;36mplot_model\u001b[0;34m(model, to_file, show_shapes, show_layer_names, rankdir)\u001b[0m\n\u001b[1;32m    130\u001b[0m             \u001b[0;34m'LR'\u001b[0m \u001b[0mcreates\u001b[0m \u001b[0ma\u001b[0m \u001b[0mhorizontal\u001b[0m \u001b[0mplot\u001b[0m\u001b[0;34m.\u001b[0m\u001b[0;34m\u001b[0m\u001b[0m\n\u001b[1;32m    131\u001b[0m     \"\"\"\n\u001b[0;32m--> 132\u001b[0;31m     \u001b[0mdot\u001b[0m \u001b[0;34m=\u001b[0m \u001b[0mmodel_to_dot\u001b[0m\u001b[0;34m(\u001b[0m\u001b[0mmodel\u001b[0m\u001b[0;34m,\u001b[0m \u001b[0mshow_shapes\u001b[0m\u001b[0;34m,\u001b[0m \u001b[0mshow_layer_names\u001b[0m\u001b[0;34m,\u001b[0m \u001b[0mrankdir\u001b[0m\u001b[0;34m)\u001b[0m\u001b[0;34m\u001b[0m\u001b[0m\n\u001b[0m\u001b[1;32m    133\u001b[0m     \u001b[0m_\u001b[0m\u001b[0;34m,\u001b[0m \u001b[0mextension\u001b[0m \u001b[0;34m=\u001b[0m \u001b[0mos\u001b[0m\u001b[0;34m.\u001b[0m\u001b[0mpath\u001b[0m\u001b[0;34m.\u001b[0m\u001b[0msplitext\u001b[0m\u001b[0;34m(\u001b[0m\u001b[0mto_file\u001b[0m\u001b[0;34m)\u001b[0m\u001b[0;34m\u001b[0m\u001b[0m\n\u001b[1;32m    134\u001b[0m     \u001b[0;32mif\u001b[0m \u001b[0;32mnot\u001b[0m \u001b[0mextension\u001b[0m\u001b[0;34m:\u001b[0m\u001b[0;34m\u001b[0m\u001b[0m\n",
      "\u001b[0;32m~/anaconda3/envs/python3/lib/python3.6/site-packages/keras/utils/vis_utils.py\u001b[0m in \u001b[0;36mmodel_to_dot\u001b[0;34m(model, show_shapes, show_layer_names, rankdir)\u001b[0m\n\u001b[1;32m     53\u001b[0m     \u001b[0;32mfrom\u001b[0m \u001b[0;34m.\u001b[0m\u001b[0;34m.\u001b[0m\u001b[0mmodels\u001b[0m \u001b[0;32mimport\u001b[0m \u001b[0mSequential\u001b[0m\u001b[0;34m\u001b[0m\u001b[0m\n\u001b[1;32m     54\u001b[0m \u001b[0;34m\u001b[0m\u001b[0m\n\u001b[0;32m---> 55\u001b[0;31m     \u001b[0m_check_pydot\u001b[0m\u001b[0;34m(\u001b[0m\u001b[0;34m)\u001b[0m\u001b[0;34m\u001b[0m\u001b[0m\n\u001b[0m\u001b[1;32m     56\u001b[0m     \u001b[0mdot\u001b[0m \u001b[0;34m=\u001b[0m \u001b[0mpydot\u001b[0m\u001b[0;34m.\u001b[0m\u001b[0mDot\u001b[0m\u001b[0;34m(\u001b[0m\u001b[0;34m)\u001b[0m\u001b[0;34m\u001b[0m\u001b[0m\n\u001b[1;32m     57\u001b[0m     \u001b[0mdot\u001b[0m\u001b[0;34m.\u001b[0m\u001b[0mset\u001b[0m\u001b[0;34m(\u001b[0m\u001b[0;34m'rankdir'\u001b[0m\u001b[0;34m,\u001b[0m \u001b[0mrankdir\u001b[0m\u001b[0;34m)\u001b[0m\u001b[0;34m\u001b[0m\u001b[0m\n",
      "\u001b[0;32m~/anaconda3/envs/python3/lib/python3.6/site-packages/keras/utils/vis_utils.py\u001b[0m in \u001b[0;36m_check_pydot\u001b[0;34m()\u001b[0m\n\u001b[1;32m     18\u001b[0m     \u001b[0;32mif\u001b[0m \u001b[0mpydot\u001b[0m \u001b[0;32mis\u001b[0m \u001b[0;32mNone\u001b[0m\u001b[0;34m:\u001b[0m\u001b[0;34m\u001b[0m\u001b[0m\n\u001b[1;32m     19\u001b[0m         raise ImportError(\n\u001b[0;32m---> 20\u001b[0;31m             \u001b[0;34m'Failed to import `pydot`. '\u001b[0m\u001b[0;34m\u001b[0m\u001b[0m\n\u001b[0m\u001b[1;32m     21\u001b[0m             \u001b[0;34m'Please install `pydot`. '\u001b[0m\u001b[0;34m\u001b[0m\u001b[0m\n\u001b[1;32m     22\u001b[0m             'For example with `pip install pydot`.')\n",
      "\u001b[0;31mImportError\u001b[0m: Failed to import `pydot`. Please install `pydot`. For example with `pip install pydot`."
     ]
    }
   ],
   "source": [
    "from keras.utils import plot_model\n",
    "plot_model(model, to_file=\"model.png\", show_layer_names=True, show_shapes=True)"
   ]
  },
  {
   "cell_type": "code",
   "execution_count": null,
   "metadata": {
    "colab": {},
    "colab_type": "code",
    "id": "xLDhOIVMYOaU"
   },
   "outputs": [],
   "source": [
    "model.save('my_model.h5')"
   ]
  },
  {
   "cell_type": "code",
   "execution_count": null,
   "metadata": {
    "colab": {},
    "colab_type": "code",
    "id": "6hC-XCI165Bd"
   },
   "outputs": [],
   "source": [
    "pred = model.predict(features_test)"
   ]
  },
  {
   "cell_type": "code",
   "execution_count": 41,
   "metadata": {},
   "outputs": [
    {
     "ename": "AttributeError",
     "evalue": "'Sequential' object has no attribute 'deploy'",
     "output_type": "error",
     "traceback": [
      "\u001b[0;31m---------------------------------------------------------------------------\u001b[0m",
      "\u001b[0;31mAttributeError\u001b[0m                            Traceback (most recent call last)",
      "\u001b[0;32m<ipython-input-41-b126acd1a247>\u001b[0m in \u001b[0;36m<module>\u001b[0;34m()\u001b[0m\n\u001b[0;32m----> 1\u001b[0;31m \u001b[0mmodel\u001b[0m\u001b[0;34m.\u001b[0m\u001b[0mdeploy\u001b[0m\u001b[0;34m(\u001b[0m\u001b[0minitial_instance_count\u001b[0m \u001b[0;34m=\u001b[0m \u001b[0;36m0\u001b[0m\u001b[0;34m,\u001b[0m\u001b[0minstance_type\u001b[0m \u001b[0;34m=\u001b[0m \u001b[0;34m'ml.t2.medium'\u001b[0m\u001b[0;34m)\u001b[0m\u001b[0;34m\u001b[0m\u001b[0m\n\u001b[0m",
      "\u001b[0;31mAttributeError\u001b[0m: 'Sequential' object has no attribute 'deploy'"
     ]
    }
   ],
   "source": [
    "model.deploy(initial_instance_count = 0,instance_type = 'ml.t2.medium')"
   ]
  },
  {
   "cell_type": "code",
   "execution_count": null,
   "metadata": {
    "colab": {},
    "colab_type": "code",
    "id": "VGB0RcJaYrqf"
   },
   "outputs": [],
   "source": [
    "classes = model.predict_classes(features_test)\n",
    "# le.inverse_transform(classes)"
   ]
  },
  {
   "cell_type": "code",
   "execution_count": null,
   "metadata": {
    "colab": {
     "base_uri": "https://localhost:8080/",
     "height": 34
    },
    "colab_type": "code",
    "executionInfo": {
     "elapsed": 53002,
     "status": "ok",
     "timestamp": 1553522609204,
     "user": {
      "displayName": "User User",
      "photoUrl": "",
      "userId": "11623809594633842467"
     },
     "user_tz": -330
    },
    "id": "S_LjCj-0E1MI",
    "outputId": "3a77e131-a588-4d0e-cd55-62b555e2b34b"
   },
   "outputs": [],
   "source": [
    "from sklearn.metrics import accuracy_score\n",
    "accuracy_score(labels_test, classes)"
   ]
  },
  {
   "cell_type": "code",
   "execution_count": null,
   "metadata": {
    "colab": {
     "base_uri": "https://localhost:8080/",
     "height": 34
    },
    "colab_type": "code",
    "executionInfo": {
     "elapsed": 52924,
     "status": "ok",
     "timestamp": 1553522609232,
     "user": {
      "displayName": "User User",
      "photoUrl": "",
      "userId": "11623809594633842467"
     },
     "user_tz": -330
    },
    "id": "NsoozOCNBMkJ",
    "outputId": "e160fd36-79d4-4321-ef63-c2761bc0687a"
   },
   "outputs": [],
   "source": [
    "for i in pred:\n",
    "  print(i)"
   ]
  },
  {
   "cell_type": "code",
   "execution_count": null,
   "metadata": {
    "colab": {},
    "colab_type": "code",
    "id": "OAFcMv7GmGAD"
   },
   "outputs": [],
   "source": [
    "def trainClf(est, jobs, dept):\n",
    "    clf = xgb.XGBClassifier(n_estimators=est, n_jobs=jobs, max_depth=dept)\n",
    "    clf.fit(features_train, labels_train)\n",
    "    score = clf.score(features_test, labels_test)\n",
    "    print(\"For {0} estimators, {1} jobs , {2} max_depth Score is {3}\".format(est, jobs, dept, score)) "
   ]
  },
  {
   "cell_type": "code",
   "execution_count": null,
   "metadata": {
    "colab": {},
    "colab_type": "code",
    "id": "j5y7C6bTmGAO"
   },
   "outputs": [],
   "source": [
    "est = [100, 200, 300, 400]\n",
    "jobs = [3, 4, 5]\n",
    "dept = [3, 4, 5]"
   ]
  },
  {
   "cell_type": "code",
   "execution_count": null,
   "metadata": {
    "colab": {},
    "colab_type": "code",
    "id": "wTjoTuHwmGAV"
   },
   "outputs": [],
   "source": [
    "# for e in est:\n",
    "#     for j in jobs:\n",
    "#         for d in dept:\n",
    "#             trainClf(e, j, d)"
   ]
  },
  {
   "cell_type": "code",
   "execution_count": null,
   "metadata": {
    "colab": {
     "base_uri": "https://localhost:8080/",
     "height": 34
    },
    "colab_type": "code",
    "executionInfo": {
     "elapsed": 52876,
     "status": "ok",
     "timestamp": 1553522609252,
     "user": {
      "displayName": "User User",
      "photoUrl": "",
      "userId": "11623809594633842467"
     },
     "user_tz": -330
    },
    "id": "ZN8P3Qq7mGAg",
    "outputId": "60ed0176-d7f0-45dd-bcb8-b7afa0f18b38"
   },
   "outputs": [],
   "source": [
    "pred = clf1.predict(features_test)\n",
    "pred[:10]"
   ]
  },
  {
   "cell_type": "code",
   "execution_count": null,
   "metadata": {
    "colab": {
     "base_uri": "https://localhost:8080/",
     "height": 34
    },
    "colab_type": "code",
    "executionInfo": {
     "elapsed": 52853,
     "status": "ok",
     "timestamp": 1553522609255,
     "user": {
      "displayName": "User User",
      "photoUrl": "",
      "userId": "11623809594633842467"
     },
     "user_tz": -330
    },
    "id": "-ZiN-xaumGAs",
    "outputId": "2636fa5d-765a-4b58-8219-d5deef6a5b05"
   },
   "outputs": [],
   "source": [
    "clf1.score(features_test, labels_test)"
   ]
  },
  {
   "cell_type": "code",
   "execution_count": null,
   "metadata": {
    "colab": {
     "base_uri": "https://localhost:8080/",
     "height": 105
    },
    "colab_type": "code",
    "executionInfo": {
     "elapsed": 54072,
     "status": "ok",
     "timestamp": 1553522610498,
     "user": {
      "displayName": "User User",
      "photoUrl": "",
      "userId": "11623809594633842467"
     },
     "user_tz": -330
    },
    "id": "lJyrHRLkmGBC",
    "outputId": "66812682-fd3b-4399-e844-fd9e162edbac"
   },
   "outputs": [],
   "source": [
    "%%time\n",
    "clf2 = RandomForestClassifier()\n",
    "clf2.fit(features_train, labels_train)"
   ]
  },
  {
   "cell_type": "code",
   "execution_count": null,
   "metadata": {
    "colab": {
     "base_uri": "https://localhost:8080/",
     "height": 34
    },
    "colab_type": "code",
    "executionInfo": {
     "elapsed": 54053,
     "status": "ok",
     "timestamp": 1553522610500,
     "user": {
      "displayName": "User User",
      "photoUrl": "",
      "userId": "11623809594633842467"
     },
     "user_tz": -330
    },
    "id": "gxEurUIZmGBR",
    "outputId": "05004b35-7a04-4715-9c7c-cb90575a8375"
   },
   "outputs": [],
   "source": [
    "pred = clf2.predict(features_test)\n",
    "pred[:10]"
   ]
  },
  {
   "cell_type": "code",
   "execution_count": null,
   "metadata": {
    "colab": {
     "base_uri": "https://localhost:8080/",
     "height": 34
    },
    "colab_type": "code",
    "executionInfo": {
     "elapsed": 54036,
     "status": "ok",
     "timestamp": 1553522610507,
     "user": {
      "displayName": "User User",
      "photoUrl": "",
      "userId": "11623809594633842467"
     },
     "user_tz": -330
    },
    "id": "6fC1326ymGBn",
    "outputId": "ec46b635-8f3e-40f3-ba64-4171db2cc0a7"
   },
   "outputs": [],
   "source": [
    "clf2.score(features_test, labels_test)"
   ]
  },
  {
   "cell_type": "code",
   "execution_count": null,
   "metadata": {
    "colab": {},
    "colab_type": "code",
    "id": "lSqxn0E_mGB2"
   },
   "outputs": [],
   "source": [
    "from sklearn.model_selection import GridSearchCV\n",
    "parameters = {'n_estimators': [200, 250, 300, 350]}\n",
    "gridscv = GridSearchCV(clf1, parameters, cv=5)"
   ]
  },
  {
   "cell_type": "code",
   "execution_count": null,
   "metadata": {
    "colab": {},
    "colab_type": "code",
    "id": "vWRVgLCzmGCM"
   },
   "outputs": [],
   "source": [
    "# gridscv.fit(clf1, features_train, labels_train)"
   ]
  },
  {
   "cell_type": "code",
   "execution_count": null,
   "metadata": {
    "colab": {},
    "colab_type": "code",
    "id": "DzoEdQAAmGCX"
   },
   "outputs": [],
   "source": [
    "# vectorizer2 = TfidfVectorizer(analyzer=clean_data)\n",
    "# vect_t = vectorizer2.fit_transform(data['Abstract'])\n",
    "# vect_t.toarray()"
   ]
  }
 ],
 "metadata": {
  "colab": {
   "collapsed_sections": [],
   "name": "Demo_Excel.ipynb",
   "provenance": [],
   "toc_visible": true,
   "version": "0.3.2"
  },
  "kernelspec": {
   "display_name": "conda_python3",
   "language": "python",
   "name": "conda_python3"
  },
  "language_info": {
   "codemirror_mode": {
    "name": "ipython",
    "version": 3
   },
   "file_extension": ".py",
   "mimetype": "text/x-python",
   "name": "python",
   "nbconvert_exporter": "python",
   "pygments_lexer": "ipython3",
   "version": "3.6.5"
  }
 },
 "nbformat": 4,
 "nbformat_minor": 2
}
